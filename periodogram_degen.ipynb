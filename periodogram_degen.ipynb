{
 "cells": [
  {
   "cell_type": "markdown",
   "source": [
    "# Periodogram for degen data"
   ],
   "metadata": {
    "collapsed": false
   }
  },
  {
   "cell_type": "code",
   "execution_count": 5,
   "outputs": [],
   "source": [
    "from scipy import signal\n",
    "import numpy as np\n",
    "import pandas as pd\n",
    "import tqdm\n",
    "import os"
   ],
   "metadata": {
    "collapsed": false
   }
  },
  {
   "cell_type": "code",
   "execution_count": 2,
   "outputs": [],
   "source": [
    "def _read_data(data_file, N=np.inf):\n",
    "    data = []\n",
    "    with open(data_file, 'r') as f:\n",
    "        count = 0\n",
    "        for line in f:\n",
    "            line = line.strip()\n",
    "            num = list(map(float, line.split()))\n",
    "            data.append(num)\n",
    "            count += 1\n",
    "            if count >= N:\n",
    "                break\n",
    "    return data\n",
    "\n",
    "def compute_freqs_powers(data, scaling: str = 'density'):\n",
    "    \"\"\"\n",
    "    See https://docs.scipy.org/doc/scipy/reference/generated/scipy.signal.periodogram.html\n",
    "    :param data:\n",
    "    :return:\n",
    "    \"\"\"\n",
    "    freqs, powers = [], []\n",
    "    for i in tqdm.tqdm(range(len(data))):\n",
    "        f, p = signal.periodogram(data[i], scaling=scaling)\n",
    "        freqs.append(f)\n",
    "        powers.append(p)\n",
    "    return freqs, powers\n",
    "\n",
    "\n",
    "def fp_pipeline(data_file, N=np.inf) -> pd.DataFrame:\n",
    "    data_list = _read_data(data_file) # Read all data\n",
    "    data_arr = np.concatenate([np.asarray(d) for d in data_list])\n",
    "    mean_data = np.mean(data_arr)\n",
    "    sd_data = np.std(data_arr)\n",
    "\n",
    "    if N < np.inf:\n",
    "        data_norm = [(np.asarray(d) - mean_data)/sd_data for d in data_list[:N]]\n",
    "    else:\n",
    "        data_norm = [(np.asarray(d) - mean_data)/sd_data for d in data_list]\n",
    "    freqs, powers = compute_freqs_powers(data_norm)\n",
    "    df = pd.DataFrame.from_dict({\n",
    "        'freq': np.concatenate(freqs),\n",
    "        'power': np.concatenate(powers)\n",
    "    })\n",
    "    return df"
   ],
   "metadata": {
    "collapsed": false
   }
  },
  {
   "cell_type": "markdown",
   "source": [
    "## Unconditional outputs"
   ],
   "metadata": {
    "collapsed": false
   }
  },
  {
   "cell_type": "code",
   "execution_count": 6,
   "outputs": [],
   "source": [
    "# Unconditional output\n",
    "input_folder = 'data/data_degen/unconditional/'\n",
    "output_folder = 'plot/degen/'\n",
    "\n",
    "os.makedirs(output_folder, exist_ok=True)"
   ],
   "metadata": {
    "collapsed": false
   }
  },
  {
   "cell_type": "code",
   "execution_count": 7,
   "outputs": [
    {
     "name": "stderr",
     "output_type": "stream",
     "text": [
      "100%|██████████| 5000/5000 [00:00<00:00, 5819.98it/s]\n"
     ]
    }
   ],
   "source": [
    "# gold\n",
    "input_file = 'unconditional_gold.model=gpt2.nll'\n",
    "df = fp_pipeline(input_folder + input_file)\n",
    "df.to_csv(output_folder + input_file[:-4] + '.density.csv', index=False)"
   ],
   "metadata": {
    "collapsed": false
   }
  },
  {
   "cell_type": "code",
   "execution_count": 8,
   "outputs": [
    {
     "name": "stderr",
     "output_type": "stream",
     "text": [
      "100%|██████████| 5000/5000 [00:00<00:00, 5675.18it/s]\n"
     ]
    }
   ],
   "source": [
    "# Pure sampling\n",
    "input_file = 'unconditional_puresampling_large.model=gpt2.nll'\n",
    "df = fp_pipeline(input_folder + input_file)\n",
    "df.to_csv(output_folder + input_file[:-4] + '.density.csv', index=False)"
   ],
   "metadata": {
    "collapsed": false
   }
  },
  {
   "cell_type": "code",
   "execution_count": 9,
   "outputs": [
    {
     "name": "stderr",
     "output_type": "stream",
     "text": [
      "100%|██████████| 5000/5000 [00:00<00:00, 6347.54it/s]\n"
     ]
    }
   ],
   "source": [
    "# Top k=40\n",
    "input_file = 'unconditional_topk_k=40_t=0.7_large.model=gpt2.nll'\n",
    "df = fp_pipeline(input_folder + input_file)\n",
    "df.to_csv(output_folder + input_file[:-4] + '.density.csv', index=False)"
   ],
   "metadata": {
    "collapsed": false
   }
  },
  {
   "cell_type": "code",
   "execution_count": 10,
   "outputs": [
    {
     "name": "stderr",
     "output_type": "stream",
     "text": [
      "100%|██████████| 5000/5000 [00:00<00:00, 5200.96it/s]\n"
     ]
    }
   ],
   "source": [
    "# Top k=640\n",
    "input_file = 'unconditional_topk_k=640_large.model=gpt2.nll'\n",
    "df = fp_pipeline(input_folder + input_file)\n",
    "df.to_csv(output_folder + input_file[:-4] + '.density.csv', index=False)"
   ],
   "metadata": {
    "collapsed": false
   }
  },
  {
   "cell_type": "code",
   "execution_count": 11,
   "outputs": [
    {
     "name": "stderr",
     "output_type": "stream",
     "text": [
      "100%|██████████| 5000/5000 [00:00<00:00, 5748.90it/s]\n",
      "100%|██████████| 5000/5000 [00:00<00:00, 5889.59it/s]\n",
      "100%|██████████| 5000/5000 [00:00<00:00, 6819.76it/s]\n",
      "100%|██████████| 5000/5000 [00:00<00:00, 6392.82it/s]\n",
      "100%|██████████| 5000/5000 [00:00<00:00, 7260.61it/s]\n",
      "100%|██████████| 5000/5000 [00:00<00:00, 6986.65it/s]\n",
      "100%|██████████| 5000/5000 [00:00<00:00, 6395.91it/s]\n",
      "100%|██████████| 5000/5000 [00:00<00:00, 6950.18it/s]\n",
      "100%|██████████| 5000/5000 [00:00<00:00, 6554.53it/s]\n"
     ]
    }
   ],
   "source": [
    "# Sampling with different temperatures\n",
    "# t = [0.1, 0.2, ..., 0.9]\n",
    "for t in range(1, 10):\n",
    "    input_file = f'unconditional_sampling_t=0.{t}_large.model=gpt2.nll'\n",
    "    df = fp_pipeline(input_folder + input_file)\n",
    "    df.to_csv(output_folder + input_file[:-4] + '.density.csv', index=False)"
   ],
   "metadata": {
    "collapsed": false
   }
  },
  {
   "cell_type": "code",
   "execution_count": 12,
   "outputs": [
    {
     "name": "stderr",
     "output_type": "stream",
     "text": [
      "100%|██████████| 5000/5000 [00:00<00:00, 5174.84it/s]\n",
      "100%|██████████| 5000/5000 [00:00<00:00, 5397.63it/s]\n",
      "100%|██████████| 5000/5000 [00:00<00:00, 5729.89it/s]\n",
      "100%|██████████| 5000/5000 [00:00<00:00, 5570.28it/s]\n",
      "100%|██████████| 5000/5000 [00:00<00:00, 5528.92it/s]\n",
      "100%|██████████| 5000/5000 [00:00<00:00, 5910.05it/s]\n",
      "100%|██████████| 5000/5000 [00:00<00:00, 5736.04it/s]\n",
      "100%|██████████| 5000/5000 [00:00<00:00, 5470.23it/s]\n"
     ]
    }
   ],
   "source": [
    "# Top k with different k values [5, 10, 20, ..., 640]\n",
    "for k in [5, 10, 20, 40, 80, 160, 320, 640]:\n",
    "    input_file = f'unconditional_topk_k={k}_large.model=gpt2.nll'\n",
    "    df = fp_pipeline(input_folder + input_file)\n",
    "    df.to_csv(output_folder + input_file[:-4] + '.density.csv', index=False)"
   ],
   "metadata": {
    "collapsed": false
   }
  },
  {
   "cell_type": "code",
   "execution_count": 14,
   "outputs": [
    {
     "name": "stderr",
     "output_type": "stream",
     "text": [
      "100%|██████████| 5000/5000 [00:00<00:00, 5507.41it/s]\n",
      "100%|██████████| 5000/5000 [00:01<00:00, 4967.91it/s]\n",
      "100%|██████████| 5000/5000 [00:00<00:00, 5524.70it/s]\n",
      "100%|██████████| 5000/5000 [00:00<00:00, 5649.74it/s]\n",
      "100%|██████████| 5000/5000 [00:00<00:00, 5148.59it/s]\n",
      "100%|██████████| 5000/5000 [00:00<00:00, 5600.00it/s]\n",
      "100%|██████████| 5000/5000 [00:01<00:00, 3379.87it/s]\n",
      "100%|██████████| 5000/5000 [00:00<00:00, 5013.83it/s]\n",
      "100%|██████████| 5000/5000 [00:01<00:00, 4769.77it/s]\n"
     ]
    }
   ],
   "source": [
    "# Top p with p from [0.1, 0.2, ..., 0.9]\n",
    "for p in range(1, 10):\n",
    "    input_file = f'unconditional_topp_p=0.{p}_large.model=gpt2.nll'\n",
    "    df = fp_pipeline(input_folder + input_file)\n",
    "    df.to_csv(output_folder + input_file[:-4] + '.density.csv', index=False)"
   ],
   "metadata": {
    "collapsed": false
   }
  },
  {
   "cell_type": "code",
   "execution_count": 16,
   "outputs": [
    {
     "name": "stderr",
     "output_type": "stream",
     "text": [
      "100%|██████████| 5000/5000 [00:00<00:00, 5475.07it/s]\n",
      "100%|██████████| 5000/5000 [00:00<00:00, 5534.99it/s]\n",
      "100%|██████████| 5000/5000 [00:00<00:00, 5760.35it/s]\n",
      "100%|██████████| 5000/5000 [00:00<00:00, 5810.39it/s]\n"
     ]
    }
   ],
   "source": [
    "# Top p with p from [95, 975, 9875, 99375]\n",
    "for p in [95, 975, 9875, 99375]:\n",
    "    input_file = f'unconditional_topp_p=0.{p}_large.model=gpt2.nll'\n",
    "    df = fp_pipeline(input_folder + input_file)\n",
    "    df.to_csv(output_folder + input_file[:-4] + '.density.csv', index=False)"
   ],
   "metadata": {
    "collapsed": false
   }
  },
  {
   "cell_type": "code",
   "execution_count": null,
   "outputs": [],
   "source": [],
   "metadata": {
    "collapsed": false
   }
  }
 ],
 "metadata": {
  "kernelspec": {
   "display_name": "Python 3",
   "language": "python",
   "name": "python3"
  },
  "language_info": {
   "codemirror_mode": {
    "name": "ipython",
    "version": 2
   },
   "file_extension": ".py",
   "mimetype": "text/x-python",
   "name": "python",
   "nbconvert_exporter": "python",
   "pygments_lexer": "ipython2",
   "version": "2.7.6"
  }
 },
 "nbformat": 4,
 "nbformat_minor": 0
}
