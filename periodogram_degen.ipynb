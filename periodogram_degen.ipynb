{
 "cells": [
  {
   "cell_type": "markdown",
   "source": [
    "# Periodogram for degen data"
   ],
   "metadata": {
    "collapsed": false
   }
  },
  {
   "cell_type": "code",
   "execution_count": 1,
   "outputs": [],
   "source": [
    "from scipy import signal\n",
    "import numpy as np\n",
    "import pandas as pd\n",
    "import tqdm"
   ],
   "metadata": {
    "collapsed": false
   }
  },
  {
   "cell_type": "code",
   "execution_count": 2,
   "outputs": [],
   "source": [
    "def _read_data(data_file, N=np.inf):\n",
    "    data = []\n",
    "    with open(data_file, 'r') as f:\n",
    "        count = 0\n",
    "        for line in f:\n",
    "            line = line.strip()\n",
    "            num = list(map(float, line.split()))\n",
    "            data.append(num)\n",
    "            count += 1\n",
    "            if count >= N:\n",
    "                break\n",
    "    return data\n",
    "\n",
    "def compute_freqs_powers(data, scaling: str = 'density'):\n",
    "    \"\"\"\n",
    "    See https://docs.scipy.org/doc/scipy/reference/generated/scipy.signal.periodogram.html\n",
    "    :param data:\n",
    "    :return:\n",
    "    \"\"\"\n",
    "    freqs, powers = [], []\n",
    "    for i in tqdm.tqdm(range(len(data))):\n",
    "        f, p = signal.periodogram(data[i], scaling=scaling)\n",
    "        freqs.append(f)\n",
    "        powers.append(p)\n",
    "    return freqs, powers\n",
    "\n",
    "\n",
    "def fp_pipeline(data_file, N=np.inf) -> pd.DataFrame:\n",
    "    data_list = _read_data(data_file) # Read all data\n",
    "    data_arr = np.concatenate([np.asarray(d) for d in data_list])\n",
    "    mean_data = np.mean(data_arr)\n",
    "    sd_data = np.std(data_arr)\n",
    "\n",
    "    if N < np.inf:\n",
    "        data_norm = [(np.asarray(d) - mean_data)/sd_data for d in data_list[:N]]\n",
    "    else:\n",
    "        data_norm = [(np.asarray(d) - mean_data)/sd_data for d in data_list]\n",
    "    freqs, powers = compute_freqs_powers(data_norm)\n",
    "    df = pd.DataFrame.from_dict({\n",
    "        'freq': np.concatenate(freqs),\n",
    "        'power': np.concatenate(powers)\n",
    "    })\n",
    "    return df"
   ],
   "metadata": {
    "collapsed": false
   }
  },
  {
   "cell_type": "markdown",
   "source": [
    "## Unconditional outputs"
   ],
   "metadata": {
    "collapsed": false
   }
  },
  {
   "cell_type": "code",
   "execution_count": 3,
   "outputs": [
    {
     "name": "stderr",
     "output_type": "stream",
     "text": [
      "100%|██████████| 5000/5000 [00:00<00:00, 24813.17it/s]\n"
     ]
    }
   ],
   "source": [
    "# Unconditional output\n",
    "input_folder = 'data/data_degen/unconditional/'\n",
    "output_folder = 'plot/degen/'\n",
    "\n",
    "# gold\n",
    "input_file = 'unconditional_gold.model=gpt2.nll'\n",
    "df = fp_pipeline(input_folder + input_file)\n",
    "df.to_csv(output_folder + input_file[:-4] + '.density.csv', index=False)"
   ],
   "metadata": {
    "collapsed": false
   }
  },
  {
   "cell_type": "code",
   "execution_count": 4,
   "outputs": [
    {
     "name": "stderr",
     "output_type": "stream",
     "text": [
      "100%|██████████| 5000/5000 [00:00<00:00, 25879.52it/s]\n"
     ]
    }
   ],
   "source": [
    "# Pure sampling\n",
    "input_file = 'unconditional_puresampling_large.model=gpt2.nll'\n",
    "df = fp_pipeline(input_folder + input_file)\n",
    "df.to_csv(output_folder + input_file[:-4] + '.density.csv', index=False)"
   ],
   "metadata": {
    "collapsed": false
   }
  },
  {
   "cell_type": "code",
   "execution_count": null,
   "outputs": [],
   "source": [],
   "metadata": {
    "collapsed": false
   }
  }
 ],
 "metadata": {
  "kernelspec": {
   "display_name": "Python 3",
   "language": "python",
   "name": "python3"
  },
  "language_info": {
   "codemirror_mode": {
    "name": "ipython",
    "version": 2
   },
   "file_extension": ".py",
   "mimetype": "text/x-python",
   "name": "python",
   "nbconvert_exporter": "python",
   "pygments_lexer": "ipython2",
   "version": "2.7.6"
  }
 },
 "nbformat": 4,
 "nbformat_minor": 0
}
