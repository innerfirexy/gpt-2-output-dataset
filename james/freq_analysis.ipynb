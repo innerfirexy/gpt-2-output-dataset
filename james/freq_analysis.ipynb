{
 "cells": [
  {
   "cell_type": "code",
   "execution_count": 2,
   "metadata": {
    "collapsed": false
   },
   "outputs": [],
   "source": [
    "from scipy import signal\n",
    "import numpy as np\n",
    "import pandas as pd\n",
    "import tqdm"
   ]
  },
  {
   "cell_type": "code",
   "execution_count": 3,
   "metadata": {
    "collapsed": false
   },
   "outputs": [],
   "source": [
    "%matplotlib inline\n",
    "import matplotlib.pyplot as plt\n",
    "from plotnine import *"
   ]
  },
  {
   "cell_type": "code",
   "execution_count": 5,
   "metadata": {
    "collapsed": false
   },
   "outputs": [],
   "source": [
    "def _read_data(data_file, N=np.inf):\n",
    "    data = []\n",
    "    with open(data_file, 'r') as f:\n",
    "        count = 0\n",
    "        for line in f:\n",
    "            line = line.strip()\n",
    "            num = list(map(float, line.split()))\n",
    "            data.append(num)\n",
    "            count += 1\n",
    "            if count >= N:\n",
    "                break\n",
    "    return data\n",
    "\n",
    "def compute_freqs_powers(data):\n",
    "    freqs, powers = [], []\n",
    "    for i in tqdm.tqdm(range(len(data))):\n",
    "        f, p = signal.periodogram(data[i])\n",
    "        freqs.append(f)\n",
    "        powers.append(p)\n",
    "    return freqs, powers\n",
    "\n",
    "\n",
    "def fp_pipeline(data_file, N=np.inf) -> pd.DataFrame:\n",
    "    data_list = _read_data(data_file) # Read all data\n",
    "    data_arr = np.concatenate([np.asarray(d) for d in data_list])\n",
    "    mean_data = np.mean(data_arr)\n",
    "    sd_data = np.std(data_arr)\n",
    "\n",
    "    if N < np.inf:\n",
    "        data_norm = [(np.asarray(d) - mean_data)/sd_data for d in data_list[:N]]\n",
    "    else:\n",
    "        data_norm = [(np.asarray(d) - mean_data)/sd_data for d in data_list]\n",
    "    freqs, powers = compute_freqs_powers(data_norm)\n",
    "    df = pd.DataFrame.from_dict({\n",
    "        'freq': np.concatenate(freqs),\n",
    "        'power': np.concatenate(powers)\n",
    "    })\n",
    "    return df"
   ]
  },
  {
   "cell_type": "code",
   "execution_count": 4,
   "metadata": {
    "collapsed": false
   },
   "outputs": [
    {
     "name": "stdout",
     "output_type": "stream",
     "text": [
      "0.5307589898773655 1.7260011708546477\n"
     ]
    }
   ],
   "source": [
    "# Estimate the mean and SD of each dataset\n",
    "data_webtext = _read_data('/Users/james/Workspace/gpt-2-output-dataset/james/glm10b/5273_sample/webtext.train.model=.nll', N=5000)\n",
    "data_webtext = np.concatenate([np.asarray(d) for d in data_webtext])\n",
    "mean_webtext = np.mean(data_webtext)\n",
    "sd_webtext = np.std(data_webtext)\n",
    "print(mean_webtext, sd_webtext)"
   ]
  },
  {
   "cell_type": "code",
   "execution_count": 17,
   "metadata": {
    "collapsed": false
   },
   "outputs": [
    {
     "name": "stdout",
     "output_type": "stream",
     "text": [
      "4.477515675803005 3.399423175561336\n"
     ]
    }
   ],
   "source": [
    "data_small = _read_data('data/small-117M.train.nll', N=5000)\n",
    "data_small = np.concatenate([np.asarray(d) for d in data_small])\n",
    "mean_small = np.mean(data_small)\n",
    "sd_small = np.std(data_small)\n",
    "print(mean_small, sd_small)\n",
    "\n",
    "data_small_k40 = _read_data('data/small-117M-k40.test.nll', N=5000)\n",
    "data_small_k40 = np.concatenate([np.asarray(d) for d in data_small_k40])\n",
    "mean_small_k40 = np.mean(data_small_k40)\n",
    "sd_small_k40 = np.std(data_small_k40)\n",
    "print(mean_small_k40, sd_small_k40)"
   ]
  },
  {
   "cell_type": "code",
   "execution_count": 18,
   "metadata": {
    "collapsed": false
   },
   "outputs": [
    {
     "name": "stdout",
     "output_type": "stream",
     "text": [
      "2.2086800749537354 1.7777792583069203\n"
     ]
    }
   ],
   "source": []
  },
  {
   "cell_type": "code",
   "execution_count": 19,
   "metadata": {
    "collapsed": false
   },
   "outputs": [
    {
     "name": "stdout",
     "output_type": "stream",
     "text": [
      "4.813325519858933 3.5298565335424255\n",
      "2.2257274940251675 1.766350909984826\n"
     ]
    }
   ],
   "source": [
    "data_medium = _read_data('data/medium-345M.test.nll', N=5000)\n",
    "data_medium = np.concatenate([np.asarray(d) for d in data_medium])\n",
    "mean_medium = np.mean(data_medium)\n",
    "sd_medium = np.std(data_medium)\n",
    "print(mean_medium, sd_medium)\n",
    "\n",
    "data_medium_k40 = _read_data('data/medium-345M-k40.test.nll', N=5000)\n",
    "data_medium_k40 = np.concatenate([np.asarray(d) for d in data_medium_k40])\n",
    "mean_medium_k40 = np.mean(data_medium_k40)\n",
    "sd_medium_k40 = np.std(data_medium_k40)\n",
    "print(mean_medium_k40, sd_medium_k40)"
   ]
  },
  {
   "cell_type": "code",
   "execution_count": 20,
   "metadata": {
    "collapsed": false
   },
   "outputs": [
    {
     "name": "stdout",
     "output_type": "stream",
     "text": [
      "3.5615737187259917 3.210019058419503\n",
      "1.9575023980274346 1.7450819405645992\n"
     ]
    }
   ],
   "source": [
    "data_large = _read_data('data/large-762M.test.nll', N=5000)\n",
    "data_large = np.concatenate([np.asarray(d) for d in data_large])\n",
    "mean_large = np.mean(data_large)\n",
    "sd_large = np.std(data_large)\n",
    "print(mean_large, sd_large)\n",
    "\n",
    "data_large_k40 = _read_data('data/large-762M-k40.test.nll', N=5000)\n",
    "data_large_k40 = np.concatenate([np.asarray(d) for d in data_large_k40])\n",
    "mean_large_k40 = np.mean(data_large_k40)\n",
    "sd_large_k40 = np.std(data_large_k40)\n",
    "print(mean_large_k40, sd_large_k40)"
   ]
  },
  {
   "cell_type": "code",
   "execution_count": 28,
   "metadata": {
    "collapsed": false
   },
   "outputs": [
    {
     "name": "stdout",
     "output_type": "stream",
     "text": [
      "3.387414050549441 3.1719707991325974\n",
      "1.901587205270579 1.7416425526819896\n"
     ]
    }
   ],
   "source": [
    "data_xl = _read_data('data/xl-1542M.test.nll', N=5000)\n",
    "data_xl = np.concatenate([np.asarray(d) for d in data_xl])\n",
    "mean_xl = np.mean(data_xl)\n",
    "sd_xl = np.std(data_xl)\n",
    "print(mean_xl, sd_xl)\n",
    "\n",
    "data_xl_k40 = _read_data('data/xl-1542M-k40.test.nll', N=5000)\n",
    "data_xl_k40 = np.concatenate([np.asarray(d) for d in data_xl_k40])\n",
    "mean_xl_k40 = np.mean(data_xl_k40)\n",
    "sd_xl_k40 = np.std(data_xl_k40)\n",
    "print(mean_xl_k40, sd_xl_k40)"
   ]
  },
  {
   "cell_type": "code",
   "execution_count": 5,
   "metadata": {
    "collapsed": false
   },
   "outputs": [
    {
     "data": {
      "text/plain": [
       "[<matplotlib.lines.Line2D at 0x7f840e2b3790>]"
      ]
     },
     "execution_count": 5,
     "metadata": {},
     "output_type": "execute_result"
    },
    {
     "data": {
      "image/png": "[encoded data removed]",
      "text/plain": [
       "<Figure size 432x288 with 1 Axes>"
      ]
     },
     "metadata": {
      "needs_background": "light"
     },
     "output_type": "display_data"
    }
   ],
   "source": [
    "data = _read_data('/Users/james/Workspace/gpt-2-output-dataset/james/glm10b/5273_sample/webtext.test.model.zeropadded.nll', N=1000)\n",
    "\n",
    "f, Pxx = signal.periodogram(data[0])\n",
    "plt.plot(f, Pxx)"
   ]
  },
  {
   "cell_type": "code",
   "execution_count": 14,
   "metadata": {},
   "outputs": [
    {
     "data": {
      "text/plain": [
       "<matplotlib.legend.Legend at 0x7f8dd34ab2d0>"
      ]
     },
     "execution_count": 14,
     "metadata": {},
     "output_type": "execute_result"
    },
    {
     "data": {
      "image/png": "[encoded data removed]",
      "text/plain": [
       "<Figure size 640x480 with 1 Axes>"
      ]
     },
     "metadata": {},
     "output_type": "display_data"
    }
   ],
   "source": [
    "path = '/Users/james/Workspace/gpt-2-output-dataset/james/glm10b/5273_sample/'\n",
    "\n",
    "data_1 = _read_data(path + 'webtext.test.model.zeropadded.nll', N=1000)\n",
    "data_2 =  _read_data(path + 'webtext.test.model=.nll', N=1000)\n",
    "\n",
    "f1, Pxx1 = signal.periodogram(data_1[0])\n",
    "f2, Pxx2 = signal.periodogram(data_2[0])\n",
    "f3, Pxx3 = signal.periodogram([999999]*1023)\n",
    "\n",
    "plt.plot(f1, Pxx1, label='Zero-padded')\n",
    "plt.plot(f2, Pxx2, label='No padding')\n",
    "plt.plot(f3, Pxx3, label='Zero')\n",
    "plt.legend()\n"
   ]
  },
  {
   "cell_type": "code",
   "execution_count": 6,
   "metadata": {
    "collapsed": false
   },
   "outputs": [
    {
     "name": "stderr",
     "output_type": "stream",
     "text": [
      "100%|██████████| 1000/1000 [00:00<00:00, 8309.45it/s]"
     ]
    },
    {
     "name": "stdout",
     "output_type": "stream",
     "text": [
      "<class 'numpy.ndarray'>\n"
     ]
    },
    {
     "name": "stderr",
     "output_type": "stream",
     "text": [
      "\n"
     ]
    }
   ],
   "source": [
    "freqs, powers = compute_freqs_powers(data)\n",
    "# print(list(map(len, freqs)))\n",
    "# print(list(map(len, powers)))\n",
    "print(type(freqs[0]))"
   ]
  },
  {
   "cell_type": "code",
   "execution_count": 7,
   "metadata": {
    "collapsed": false
   },
   "outputs": [
    {
     "data": {
      "text/html": [
       "<div>\n",
       "<style scoped>\n",
       "    .dataframe tbody tr th:only-of-type {\n",
       "        vertical-align: middle;\n",
       "    }\n",
       "\n",
       "    .dataframe tbody tr th {\n",
       "        vertical-align: top;\n",
       "    }\n",
       "\n",
       "    .dataframe thead th {\n",
       "        text-align: right;\n",
       "    }\n",
       "</style>\n",
       "<table border=\"1\" class=\"dataframe\">\n",
       "  <thead>\n",
       "    <tr style=\"text-align: right;\">\n",
       "      <th></th>\n",
       "      <th>freq</th>\n",
       "      <th>power</th>\n",
       "    </tr>\n",
       "  </thead>\n",
       "  <tbody>\n",
       "    <tr>\n",
       "      <th>0</th>\n",
       "      <td>0.000000</td>\n",
       "      <td>3.778513e-32</td>\n",
       "    </tr>\n",
       "    <tr>\n",
       "      <th>1</th>\n",
       "      <td>0.000978</td>\n",
       "      <td>1.183538e+01</td>\n",
       "    </tr>\n",
       "    <tr>\n",
       "      <th>2</th>\n",
       "      <td>0.001955</td>\n",
       "      <td>1.019656e+01</td>\n",
       "    </tr>\n",
       "    <tr>\n",
       "      <th>3</th>\n",
       "      <td>0.002933</td>\n",
       "      <td>7.934402e+00</td>\n",
       "    </tr>\n",
       "    <tr>\n",
       "      <th>4</th>\n",
       "      <td>0.003910</td>\n",
       "      <td>5.578371e+00</td>\n",
       "    </tr>\n",
       "    <tr>\n",
       "      <th>...</th>\n",
       "      <td>...</td>\n",
       "      <td>...</td>\n",
       "    </tr>\n",
       "    <tr>\n",
       "      <th>511995</th>\n",
       "      <td>0.495601</td>\n",
       "      <td>1.197968e+00</td>\n",
       "    </tr>\n",
       "    <tr>\n",
       "      <th>511996</th>\n",
       "      <td>0.496579</td>\n",
       "      <td>1.055272e+00</td>\n",
       "    </tr>\n",
       "    <tr>\n",
       "      <th>511997</th>\n",
       "      <td>0.497556</td>\n",
       "      <td>6.930747e-01</td>\n",
       "    </tr>\n",
       "    <tr>\n",
       "      <th>511998</th>\n",
       "      <td>0.498534</td>\n",
       "      <td>2.918335e-01</td>\n",
       "    </tr>\n",
       "    <tr>\n",
       "      <th>511999</th>\n",
       "      <td>0.499511</td>\n",
       "      <td>3.622731e-02</td>\n",
       "    </tr>\n",
       "  </tbody>\n",
       "</table>\n",
       "<p>512000 rows × 2 columns</p>\n",
       "</div>"
      ],
      "text/plain": [
       "            freq         power\n",
       "0       0.000000  3.778513e-32\n",
       "1       0.000978  1.183538e+01\n",
       "2       0.001955  1.019656e+01\n",
       "3       0.002933  7.934402e+00\n",
       "4       0.003910  5.578371e+00\n",
       "...          ...           ...\n",
       "511995  0.495601  1.197968e+00\n",
       "511996  0.496579  1.055272e+00\n",
       "511997  0.497556  6.930747e-01\n",
       "511998  0.498534  2.918335e-01\n",
       "511999  0.499511  3.622731e-02\n",
       "\n",
       "[512000 rows x 2 columns]"
      ]
     },
     "execution_count": 7,
     "metadata": {},
     "output_type": "execute_result"
    }
   ],
   "source": [
    "df = pd.DataFrame.from_dict({\n",
    "    'freq': np.concatenate(freqs),\n",
    "    'power': np.concatenate(powers)\n",
    "})\n",
    "df"
   ]
  },
  {
   "cell_type": "code",
   "execution_count": 8,
   "metadata": {
    "collapsed": false
   },
   "outputs": [
    {
     "name": "stdout",
     "output_type": "stream",
     "text": [
      "(512000, 2)\n"
     ]
    }
   ],
   "source": [
    "df_np = df.to_numpy()\n",
    "print(df_np.shape)\n",
    "np.savetxt('/Users/james/Workspace/gpt-2-output-dataset/james/glm10b/webtext.text.model.1k.zeropad.nll.csv', df_np, delimiter=',')"
   ]
  },
  {
   "cell_type": "code",
   "execution_count": 9,
   "metadata": {
    "collapsed": false
   },
   "outputs": [
    {
     "data": {
      "image/png": "[encoded data removed]",
      "text/plain": [
       "<Figure size 640x480 with 1 Axes>"
      ]
     },
     "metadata": {},
     "output_type": "display_data"
    },
    {
     "data": {
      "text/plain": [
       "<ggplot: (8762799736233)>"
      ]
     },
     "execution_count": 9,
     "metadata": {},
     "output_type": "execute_result"
    }
   ],
   "source": [
    "(\n",
    "    ggplot(df, aes(x='freq', y='power'))\n",
    "    + geom_smooth() + geom_point()\n",
    ")"
   ]
  },
  {
   "cell_type": "code",
   "execution_count": 31,
   "metadata": {
    "collapsed": false
   },
   "outputs": [
    {
     "name": "stderr",
     "output_type": "stream",
     "text": [
      "100%|██████████| 1000/1000 [00:00<00:00, 22079.47it/s]\n"
     ]
    }
   ],
   "source": [
    "# webtext\n",
    "data = _read_data('data/webtext.train.nll', N=1000)\n",
    "data = [(np.asarray(d) - mean_webtext)/sd_webtext for d in data]\n",
    "freqs, powers = compute_freqs_powers(data)\n",
    "df = pd.DataFrame.from_dict({\n",
    "    'freq': np.concatenate(freqs),\n",
    "    'power': np.concatenate(powers)\n",
    "})\n",
    "df.to_csv('plot/webtext_freq_power_1k.csv', index=False)"
   ]
  },
  {
   "cell_type": "code",
   "execution_count": 22,
   "metadata": {},
   "outputs": [
    {
     "name": "stderr",
     "output_type": "stream",
     "text": [
      "100%|██████████| 1000/1000 [00:00<00:00, 22005.56it/s]\n"
     ]
    }
   ],
   "source": [
    "# Small-117M\n",
    "data = _read_data('data/small-117M.train.nll', N=1000)\n",
    "data = [(np.asarray(d) - mean_small)/sd_small for d in data]\n",
    "freqs, powers = compute_freqs_powers(data)\n",
    "df = pd.DataFrame.from_dict({\n",
    "    'freq': np.concatenate(freqs),\n",
    "    'power': np.concatenate(powers)\n",
    "})\n",
    "df.to_csv('plot/small-117M_freq_power_1k.csv', index=False)"
   ]
  },
  {
   "cell_type": "code",
   "execution_count": 23,
   "metadata": {
    "collapsed": false
   },
   "outputs": [
    {
     "name": "stderr",
     "output_type": "stream",
     "text": [
      "100%|██████████| 1000/1000 [00:00<00:00, 22468.96it/s]\n"
     ]
    }
   ],
   "source": [
    "# Small-117M-k40\n",
    "data = _read_data('data/small-117M-k40.test.nll', N=1000)\n",
    "data = [(np.asarray(d) - mean_small_k40)/sd_small_k40 for d in data]\n",
    "freqs, powers = compute_freqs_powers(data)\n",
    "df = pd.DataFrame.from_dict({\n",
    "    'freq': np.concatenate(freqs),\n",
    "    'power': np.concatenate(powers)\n",
    "})\n",
    "df.to_csv('plot/small-117M-k40_freq_power_1k.csv', index=False)"
   ]
  },
  {
   "cell_type": "code",
   "execution_count": 24,
   "metadata": {},
   "outputs": [
    {
     "name": "stderr",
     "output_type": "stream",
     "text": [
      "100%|██████████| 1000/1000 [00:00<00:00, 22006.02it/s]\n"
     ]
    }
   ],
   "source": [
    "# Medium-345M\n",
    "data = _read_data('data/medium-345M.test.nll', N=1000)\n",
    "data = [(np.asarray(d) - mean_medium)/sd_medium for d in data]\n",
    "freqs, powers = compute_freqs_powers(data)\n",
    "df = pd.DataFrame.from_dict({\n",
    "    'freq': np.concatenate(freqs),\n",
    "    'power': np.concatenate(powers)\n",
    "})\n",
    "df.to_csv('plot/medium-345M_freq_power_1k.csv', index=False)"
   ]
  },
  {
   "cell_type": "code",
   "execution_count": 25,
   "metadata": {
    "collapsed": false
   },
   "outputs": [
    {
     "name": "stderr",
     "output_type": "stream",
     "text": [
      "100%|██████████| 1000/1000 [00:00<00:00, 21445.46it/s]\n"
     ]
    }
   ],
   "source": [
    "# Medium-345M-k40\n",
    "data = _read_data('data/medium-345M-k40.test.nll', N=1000)\n",
    "data = [(np.asarray(d) - mean_medium_k40)/sd_medium_k40 for d in data]\n",
    "freqs, powers = compute_freqs_powers(data)\n",
    "df = pd.DataFrame.from_dict({\n",
    "    'freq': np.concatenate(freqs),\n",
    "    'power': np.concatenate(powers)\n",
    "})\n",
    "df.to_csv('plot/medium-345M-k40_freq_power_1k.csv', index=False)"
   ]
  },
  {
   "cell_type": "code",
   "execution_count": 26,
   "metadata": {
    "collapsed": false
   },
   "outputs": [
    {
     "name": "stderr",
     "output_type": "stream",
     "text": [
      "100%|██████████| 1000/1000 [00:00<00:00, 22057.41it/s]\n"
     ]
    }
   ],
   "source": [
    "# Large-762M\n",
    "data = _read_data('data/large-762M.test.nll', N=1000)\n",
    "data = [(np.asarray(d) - mean_large)/sd_large for d in data]\n",
    "freqs, powers = compute_freqs_powers(data)\n",
    "df = pd.DataFrame.from_dict({\n",
    "    'freq': np.concatenate(freqs),\n",
    "    'power': np.concatenate(powers)\n",
    "})\n",
    "df.to_csv('plot/large-762M_freq_power_1k.csv', index=False)"
   ]
  },
  {
   "cell_type": "code",
   "execution_count": 27,
   "metadata": {
    "collapsed": false
   },
   "outputs": [
    {
     "name": "stderr",
     "output_type": "stream",
     "text": [
      "100%|██████████| 1000/1000 [00:00<00:00, 21607.09it/s]\n"
     ]
    }
   ],
   "source": [
    "# large-762M-k40\n",
    "data = _read_data('data/large-762M-k40.test.nll', N=1000)\n",
    "data = [(np.asarray(d) - mean_large_k40)/sd_large_k40 for d in data]\n",
    "freqs, powers = compute_freqs_powers(data)\n",
    "df = pd.DataFrame.from_dict({\n",
    "    'freq': np.concatenate(freqs),\n",
    "    'power': np.concatenate(powers)\n",
    "})\n",
    "df.to_csv('plot/large-762M-k40_freq_power_1k.csv', index=False)"
   ]
  },
  {
   "cell_type": "code",
   "execution_count": 29,
   "metadata": {
    "collapsed": false
   },
   "outputs": [
    {
     "name": "stderr",
     "output_type": "stream",
     "text": [
      "100%|██████████| 1000/1000 [00:00<00:00, 22764.45it/s]\n"
     ]
    }
   ],
   "source": [
    "# xl-1542M\n",
    "data = _read_data('data/xl-1542M.test.nll', N=1000)\n",
    "data = [(np.asarray(d) - mean_xl)/sd_xl for d in data]\n",
    "freqs, powers = compute_freqs_powers(data)\n",
    "df = pd.DataFrame.from_dict({\n",
    "    'freq': np.concatenate(freqs),\n",
    "    'power': np.concatenate(powers)\n",
    "})\n",
    "df.to_csv('plot/xl-1542M_freq_power_1k.csv', index=False)"
   ]
  },
  {
   "cell_type": "code",
   "execution_count": 30,
   "metadata": {
    "collapsed": false
   },
   "outputs": [
    {
     "name": "stderr",
     "output_type": "stream",
     "text": [
      "100%|██████████| 1000/1000 [00:00<00:00, 20654.78it/s]\n"
     ]
    }
   ],
   "source": [
    "# xl-1542M\n",
    "data = _read_data('data/xl-1542M-k40.test.nll', N=1000)\n",
    "data = [(np.asarray(d) - mean_xl_k40)/sd_xl_k40 for d in data]\n",
    "freqs, powers = compute_freqs_powers(data)\n",
    "df = pd.DataFrame.from_dict({\n",
    "    'freq': np.concatenate(freqs),\n",
    "    'power': np.concatenate(powers)\n",
    "})\n",
    "df.to_csv('plot/xl-1542M-k40_freq_power_1k.csv', index=False)"
   ]
  },
  {
   "cell_type": "markdown",
   "metadata": {
    "collapsed": false
   },
   "source": [
    "## Use fp_pipeline() to run experiments"
   ]
  },
  {
   "cell_type": "code",
   "execution_count": 5,
   "metadata": {
    "collapsed": false
   },
   "outputs": [
    {
     "name": "stderr",
     "output_type": "stream",
     "text": [
      "100%|██████████| 5272/5272 [00:00<00:00, 16956.18it/s]\n"
     ]
    }
   ],
   "source": [
    "# Estimated entropy in webtext.test, using 4 models: gpt2, gpt2-medium, -large, -xl\n",
    "input_files = ['webtext.train.model.infpadded.nll']\n",
    "\n",
    "for in_file in input_files:\n",
    "    df = fp_pipeline('/Users/james/Workspace/gpt-2-output-dataset/james/glm10b/5273_sample/' + in_file)\n",
    "    df.to_csv('/Users/james/Workspace/gpt-2-output-dataset/data/' + in_file[:-4] + '.webtext.nll.infpad.csv', index=False)"
   ]
  },
  {
   "cell_type": "code",
   "execution_count": 5,
   "metadata": {
    "collapsed": false
   },
   "outputs": [
    {
     "name": "stderr",
     "output_type": "stream",
     "text": [
      "100%|██████████| 5000/5000 [00:00<00:00, 22532.58it/s]\n",
      "100%|██████████| 5000/5000 [00:00<00:00, 22387.39it/s]\n",
      "100%|██████████| 5000/5000 [00:00<00:00, 22719.91it/s]\n",
      "100%|██████████| 5000/5000 [00:00<00:00, 22824.58it/s]\n"
     ]
    }
   ],
   "source": [
    "input_files = ['small-117M.test.model=gpt2.nll',\n",
    "               'small-117M.test.model=gpt2-medium.nll',\n",
    "               'small-117M.test.model=gpt2-large.nll',\n",
    "               'small-117M.test.model=gpt2-xl.nll']\n",
    "\n",
    "for in_file in input_files:\n",
    "    df = fp_pipeline('data/' + in_file)\n",
    "    df.to_csv('plot/' + in_file[:-4] + '.freq_power.csv', index=False)"
   ]
  },
  {
   "cell_type": "code",
   "execution_count": 6,
   "metadata": {
    "collapsed": false
   },
   "outputs": [
    {
     "name": "stderr",
     "output_type": "stream",
     "text": [
      "100%|██████████| 5000/5000 [00:00<00:00, 22884.35it/s]\n",
      "100%|██████████| 5000/5000 [00:00<00:00, 22759.36it/s]\n",
      "100%|██████████| 5000/5000 [00:00<00:00, 22390.64it/s]\n",
      "100%|██████████| 5000/5000 [00:00<00:00, 22975.29it/s]\n"
     ]
    }
   ],
   "source": [
    "input_files = ['small-117M-k40.test.model=gpt2.nll',\n",
    "               'small-117M-k40.test.model=gpt2-medium.nll',\n",
    "               'small-117M-k40.test.model=gpt2-large.nll',\n",
    "               'small-117M-k40.test.model=gpt2-xl.nll']\n",
    "\n",
    "for in_file in input_files:\n",
    "    df = fp_pipeline('data/' + in_file)\n",
    "    df.to_csv('plot/' + in_file[:-4] + '.freq_power.csv', index=False)"
   ]
  },
  {
   "cell_type": "code",
   "execution_count": 7,
   "metadata": {
    "collapsed": false
   },
   "outputs": [
    {
     "name": "stderr",
     "output_type": "stream",
     "text": [
      "100%|██████████| 5000/5000 [00:00<00:00, 23022.60it/s]\n",
      "100%|██████████| 5000/5000 [00:00<00:00, 23076.67it/s]\n",
      "100%|██████████| 5000/5000 [00:00<00:00, 23046.77it/s]\n",
      "100%|██████████| 5000/5000 [00:00<00:00, 23238.33it/s]\n"
     ]
    }
   ],
   "source": [
    "input_files = ['medium-345M.test.model=gpt2.nll',\n",
    "               'medium-345M.test.model=gpt2-medium.nll',\n",
    "               'medium-345M.test.model=gpt2-large.nll',\n",
    "               'medium-345M.test.model=gpt2-xl.nll']\n",
    "\n",
    "for in_file in input_files:\n",
    "    df = fp_pipeline('data/' + in_file)\n",
    "    df.to_csv('plot/' + in_file[:-4] + '.freq_power.csv', index=False)"
   ]
  },
  {
   "cell_type": "code",
   "execution_count": 9,
   "metadata": {
    "collapsed": false
   },
   "outputs": [
    {
     "name": "stderr",
     "output_type": "stream",
     "text": [
      "100%|██████████| 5000/5000 [00:00<00:00, 22715.50it/s]\n",
      "100%|██████████| 5000/5000 [00:00<00:00, 22457.97it/s]\n",
      "100%|██████████| 5000/5000 [00:00<00:00, 22713.24it/s]\n",
      "100%|██████████| 5000/5000 [00:00<00:00, 22268.24it/s]\n"
     ]
    }
   ],
   "source": [
    "input_files = ['medium-345M-k40.test.model=gpt2.nll',\n",
    "               'medium-345M-k40.test.model=gpt2-medium.nll',\n",
    "               'medium-345M-k40.test.model=gpt2-large.nll',\n",
    "               'medium-345M-k40.test.model=gpt2-xl.nll']\n",
    "\n",
    "for in_file in input_files:\n",
    "    df = fp_pipeline('data/' + in_file)\n",
    "    df.to_csv('plot/' + in_file[:-4] + '.freq_power.csv', index=False)"
   ]
  },
  {
   "cell_type": "code",
   "execution_count": 10,
   "metadata": {
    "collapsed": false
   },
   "outputs": [
    {
     "name": "stderr",
     "output_type": "stream",
     "text": [
      "100%|██████████| 5000/5000 [00:00<00:00, 23244.38it/s]\n",
      "100%|██████████| 5000/5000 [00:00<00:00, 22988.08it/s]\n",
      "100%|██████████| 5000/5000 [00:00<00:00, 22890.82it/s]\n",
      "100%|██████████| 5000/5000 [00:00<00:00, 21683.50it/s]\n"
     ]
    }
   ],
   "source": [
    "input_files = ['large-762M.test.model=gpt2.nll',\n",
    "               'large-762M.test.model=gpt2-medium.nll',\n",
    "               'large-762M.test.model=gpt2-large.nll',\n",
    "               'large-762M.test.model=gpt2-xl.nll']\n",
    "\n",
    "for in_file in input_files:\n",
    "    df = fp_pipeline('data/' + in_file)\n",
    "    df.to_csv('plot/' + in_file[:-4] + '.freq_power.csv', index=False)"
   ]
  },
  {
   "cell_type": "code",
   "execution_count": 11,
   "metadata": {
    "collapsed": false
   },
   "outputs": [
    {
     "name": "stderr",
     "output_type": "stream",
     "text": [
      "100%|██████████| 5000/5000 [00:00<00:00, 22296.54it/s]\n",
      "100%|██████████| 5000/5000 [00:00<00:00, 22203.06it/s]\n",
      "100%|██████████| 5000/5000 [00:00<00:00, 22086.07it/s]\n",
      "100%|██████████| 5000/5000 [00:00<00:00, 21524.44it/s]\n"
     ]
    }
   ],
   "source": [
    "input_files = ['large-762M-k40.test.model=gpt2.nll',\n",
    "               'large-762M-k40.test.model=gpt2-medium.nll',\n",
    "               'large-762M-k40.test.model=gpt2-large.nll',\n",
    "               'large-762M-k40.test.model=gpt2-xl.nll']\n",
    "\n",
    "for in_file in input_files:\n",
    "    df = fp_pipeline('data/' + in_file)\n",
    "    df.to_csv('plot/' + in_file[:-4] + '.freq_power.csv', index=False)"
   ]
  },
  {
   "cell_type": "code",
   "execution_count": 12,
   "metadata": {
    "collapsed": false
   },
   "outputs": [
    {
     "name": "stderr",
     "output_type": "stream",
     "text": [
      "100%|██████████| 5000/5000 [00:00<00:00, 22272.90it/s]\n",
      "100%|██████████| 5000/5000 [00:00<00:00, 23708.82it/s]\n",
      "100%|██████████| 5000/5000 [00:00<00:00, 23588.02it/s]\n",
      "100%|██████████| 5000/5000 [00:00<00:00, 22636.43it/s]\n"
     ]
    }
   ],
   "source": [
    "input_files = ['xl-1542M.test.model=gpt2.nll',\n",
    "               'xl-1542M.test.model=gpt2-medium.nll',\n",
    "               'xl-1542M.test.model=gpt2-large.nll',\n",
    "               'xl-1542M.test.model=gpt2-xl.nll']\n",
    "\n",
    "for in_file in input_files:\n",
    "    df = fp_pipeline('data/' + in_file)\n",
    "    df.to_csv('plot/' + in_file[:-4] + '.freq_power.csv', index=False)"
   ]
  },
  {
   "cell_type": "code",
   "execution_count": 13,
   "metadata": {
    "collapsed": false
   },
   "outputs": [
    {
     "name": "stderr",
     "output_type": "stream",
     "text": [
      "100%|██████████| 5000/5000 [00:00<00:00, 22572.35it/s]\n",
      "100%|██████████| 5000/5000 [00:00<00:00, 22854.85it/s]\n",
      "100%|██████████| 5000/5000 [00:00<00:00, 22123.42it/s]\n",
      "100%|██████████| 5000/5000 [00:00<00:00, 22583.05it/s]\n"
     ]
    }
   ],
   "source": [
    "input_files = ['xl-1542M-k40.test.model=gpt2.nll',\n",
    "               'xl-1542M-k40.test.model=gpt2-medium.nll',\n",
    "               'xl-1542M-k40.test.model=gpt2-large.nll',\n",
    "               'xl-1542M-k40.test.model=gpt2-xl.nll']\n",
    "\n",
    "for in_file in input_files:\n",
    "    df = fp_pipeline('data/' + in_file)\n",
    "    df.to_csv('plot/' + in_file[:-4] + '.freq_power.csv', index=False)"
   ]
  },
  {
   "cell_type": "code",
   "execution_count": 6,
   "metadata": {
    "collapsed": false
   },
   "outputs": [
    {
     "name": "stderr",
     "output_type": "stream",
     "text": [
      "100%|██████████| 5000/5000 [00:00<00:00, 6329.99it/s]\n"
     ]
    }
   ],
   "source": [
    "# degen output data\n",
    "input_files = [\n",
    "    # 'unconditional_puresampling_large.model=gpt2.nll',\n",
    "    # 'unconditional_sampling_t=0.9_large.model=gpt2.nll',\n",
    "    # 'unconditional_topk_k=40_t=0.7_large.model=gpt2.nll',\n",
    "    # 'unconditional_topk_k=640_large.model=gpt2.nll',\n",
    "    # 'unconditional_topp_p=0.95_large.model=gpt2.nll',\n",
    "    'unconditional_gold.model=gpt2.nll']\n",
    "\n",
    "for in_file in input_files:\n",
    "    df = fp_pipeline('data/data_degen/unconditional/' + in_file)\n",
    "    df.to_csv('plot/' + in_file[:-4] + '.freq_power.csv', index=False)"
   ]
  },
  {
   "cell_type": "code",
   "execution_count": null,
   "metadata": {
    "collapsed": false
   },
   "outputs": [],
   "source": []
  }
 ],
 "metadata": {
  "kernelspec": {
   "display_name": "Python 3.9.14 64-bit ('3.9.14')",
   "language": "python",
   "name": "python3"
  },
  "language_info": {
   "codemirror_mode": {
    "name": "ipython",
    "version": 3
   },
   "file_extension": ".py",
   "mimetype": "text/x-python",
   "name": "python",
   "nbconvert_exporter": "python",
   "pygments_lexer": "ipython3",
   "version": "3.7.16"
  },
  "vscode": {
   "interpreter": {
    "hash": "44806c3c24a59c3d08d4560719a0471ba0aaf028140eb86c3aa3632057267068"
   }
  }
 },
 "nbformat": 4,
 "nbformat_minor": 0
}
