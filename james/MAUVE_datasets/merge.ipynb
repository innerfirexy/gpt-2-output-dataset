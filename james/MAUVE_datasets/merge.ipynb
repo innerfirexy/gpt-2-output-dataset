{
 "cells": [
  {
   "cell_type": "code",
   "execution_count": 4,
   "metadata": {},
   "outputs": [],
   "source": [
    "import pandas as pd\n"
   ]
  },
  {
   "cell_type": "code",
   "execution_count": 9,
   "metadata": {},
   "outputs": [],
   "source": [
    "df1 = pd.read_json('/Users/james/Workspace/gpt-2-output-dataset/james/MAUVE_datasets/(\\'gpt2-large\\', \\'p0.95\\')_a.jsonl', lines=True)\n",
    "df2 = pd.read_json('/Users/james/Workspace/gpt-2-output-dataset/james/MAUVE_datasets/(\\'gpt2-large\\', \\'p1.0\\')_a.jsonl', lines=True)\n",
    "df3 = pd.read_json('/Users/james/Workspace/gpt-2-output-dataset/james/MAUVE_datasets/(\\'gpt2-medium\\', \\'p0.9\\')_a.jsonl', lines=True)\n",
    "df4 = pd.read_json('/Users/james/Workspace/gpt-2-output-dataset/james/MAUVE_datasets/(\\'gpt2-medium\\', \\'p1.0\\')_a.jsonl', lines=True)\n",
    "df5 = pd.read_json('/Users/james/Workspace/gpt-2-output-dataset/james/MAUVE_datasets/(\\'gpt2-xl\\', \\'p0.95\\')_a.jsonl', lines=True)\n",
    "df6 = pd.read_json('/Users/james/Workspace/gpt-2-output-dataset/james/MAUVE_datasets/(\\'gpt2-xl\\', \\'p1.0\\')_a.jsonl', lines=True)\n",
    "df7 = pd.read_json('/Users/james/Workspace/gpt-2-output-dataset/james/MAUVE_datasets/(\\'gpt2\\', \\'p0.9\\')_a.jsonl', lines=True)\n",
    "df8 = pd.read_json('/Users/james/Workspace/gpt-2-output-dataset/james/MAUVE_datasets/(\\'gpt2\\', \\'p1.0\\')_a.jsonl', lines=True)"
   ]
  },
  {
   "cell_type": "code",
   "execution_count": 12,
   "metadata": {},
   "outputs": [],
   "source": [
    "pso1 = pd.read_csv('/Users/james/Workspace/gpt-2-output-dataset/pso_gpt2_large_p0.95.csv')\n",
    "pso2 = pd.read_csv('/Users/james/Workspace/gpt-2-output-dataset/pso_gpt2_large_p1.0.csv')\n",
    "pso3 = pd.read_csv('/Users/james/Workspace/gpt-2-output-dataset/pso_gpt2_medium_p0.9.csv')\n",
    "pso4 = pd.read_csv('/Users/james/Workspace/gpt-2-output-dataset/pso_gpt2_medium_p1.0.csv')\n",
    "pso5 = pd.read_csv('/Users/james/Workspace/gpt-2-output-dataset/pso_gpt2_xl_p0.95.csv')\n",
    "pso6 = pd.read_csv('/Users/james/Workspace/gpt-2-output-dataset/pso_gpt2_xl_p1.0.csv')\n",
    "pso7 = pd.read_csv('/Users/james/Workspace/gpt-2-output-dataset/pso_gpt2_p0.9.csv')\n",
    "pso8 = pd.read_csv('/Users/james/Workspace/gpt-2-output-dataset/pso_gpt2_p1.0.csv')"
   ]
  },
  {
   "cell_type": "code",
   "execution_count": 20,
   "metadata": {},
   "outputs": [],
   "source": [
    "df1['so'] = pso1['0']\n",
    "df2['so'] = pso2['0']\n",
    "df3['so'] = pso3['0']\n",
    "df4['so'] = pso4['0']\n",
    "df5['so'] = pso5['0']\n",
    "df6['so'] = pso6['0']\n",
    "df7['so'] = pso7['0']\n",
    "df8['so'] = pso8['0']\n",
    "\n",
    "df_list = [df1, df2, df3, df4, df5, df6, df7, df8]\n",
    "result = pd.concat(df_list)\n",
    "result.to_excel('merge.xlsx', index=False)"
   ]
  }
 ],
 "metadata": {
  "kernelspec": {
   "display_name": "graphdl",
   "language": "python",
   "name": "python3"
  },
  "language_info": {
   "codemirror_mode": {
    "name": "ipython",
    "version": 3
   },
   "file_extension": ".py",
   "mimetype": "text/x-python",
   "name": "python",
   "nbconvert_exporter": "python",
   "pygments_lexer": "ipython3",
   "version": "3.7.16"
  },
  "orig_nbformat": 4
 },
 "nbformat": 4,
 "nbformat_minor": 2
}
