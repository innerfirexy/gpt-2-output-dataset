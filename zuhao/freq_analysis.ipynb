{
 "cells": [
  {
   "cell_type": "code",
   "execution_count": 2,
   "metadata": {
    "collapsed": false,
    "jupyter": {
     "outputs_hidden": false
    }
   },
   "outputs": [],
   "source": [
    "from scipy import signal\n",
    "import numpy as np\n",
    "import pandas as pd\n",
    "import tqdm"
   ]
  },
  {
   "cell_type": "code",
   "execution_count": 4,
   "metadata": {
    "collapsed": false,
    "jupyter": {
     "outputs_hidden": false
    }
   },
   "outputs": [],
   "source": [
    "%matplotlib inline\n",
    "import matplotlib.pyplot as plt\n",
    "from plotnine import *"
   ]
  },
  {
   "cell_type": "code",
   "execution_count": 5,
   "metadata": {
    "collapsed": false,
    "jupyter": {
     "outputs_hidden": false
    }
   },
   "outputs": [],
   "source": [
    "def _read_data(data_file, N=np.inf):\n",
    "    data = []\n",
    "    with open(data_file, 'r') as f:\n",
    "        count = 0\n",
    "        for line in f:\n",
    "            line = line.strip()\n",
    "            num = list(map(float, line.split()))\n",
    "            data.append(num)\n",
    "            count += 1\n",
    "            if count >= N:\n",
    "                break\n",
    "    return data\n",
    "\n",
    "def compute_freqs_powers(data):\n",
    "    freqs, powers = [], []\n",
    "    for i in tqdm.tqdm(range(len(data))):\n",
    "        f, p = signal.periodogram(data[i])\n",
    "        freqs.append(f)\n",
    "        powers.append(p)\n",
    "    return freqs, powers\n",
    "\n",
    "\n",
    "def fp_pipeline(data_file, N=np.inf) -> pd.DataFrame:\n",
    "    data_list = _read_data(data_file) # Read all data\n",
    "    data_arr = np.concatenate([np.asarray(d) for d in data_list])\n",
    "    mean_data = np.mean(data_arr)\n",
    "    sd_data = np.std(data_arr)\n",
    "\n",
    "    if N < np.inf:\n",
    "        data_norm = [(np.asarray(d) - mean_data)/sd_data for d in data_list[:N]]\n",
    "    else:\n",
    "        data_norm = [(np.asarray(d) - mean_data)/sd_data for d in data_list]\n",
    "    freqs, powers = compute_freqs_powers(data_norm)\n",
    "    df = pd.DataFrame.from_dict({\n",
    "        'freq': np.concatenate(freqs),\n",
    "        'power': np.concatenate(powers)\n",
    "    })\n",
    "    return df"
   ]
  },
  {
   "cell_type": "code",
   "execution_count": 43,
   "metadata": {},
   "outputs": [
    {
     "name": "stdout",
     "output_type": "stream",
     "text": [
      "9310 data/webtext.train.jsonl\n",
      "5273 data/webtext.train_opt.jsonl\n",
      "5000 data/webtext.valid.jsonl\n",
      "5000 data/webtext.test.jsonl\n",
      "9310 data/webtext.train.model=.nll\n",
      "5273 data/webtext.train_opt.model=.nll\n",
      "5000 data/webtext.valid.model=.nll\n",
      "5000 data/webtext.test.model=.nll\n"
     ]
    }
   ],
   "source": [
    "# Length Statistics\n",
    "!wc -l data/webtext.train.jsonl\n",
    "!wc -l data/webtext.train_opt.jsonl\n",
    "!wc -l data/webtext.valid.jsonl\n",
    "!wc -l data/webtext.test.jsonl\n",
    "!wc -l data/webtext.train.model=.nll\n",
    "!wc -l data/webtext.train_opt.model=.nll\n",
    "!wc -l data/webtext.valid.model=.nll\n",
    "!wc -l data/webtext.test.model=.nll"
   ]
  },
  {
   "cell_type": "code",
   "execution_count": 30,
   "metadata": {
    "collapsed": false,
    "jupyter": {
     "outputs_hidden": false
    }
   },
   "outputs": [
    {
     "name": "stdout",
     "output_type": "stream",
     "text": [
      "2.9757630734385123 2.8415559611603447\n"
     ]
    }
   ],
   "source": [
    "# Estimate the mean and SD of each dataset\n",
    "data_webtext = _read_data('data/webtext.train.model=.nll')\n",
    "data_webtext = np.concatenate([np.asarray(d) for d in data_webtext])\n",
    "mean_webtext = np.mean(data_webtext)\n",
    "sd_webtext = np.std(data_webtext)\n",
    "print(mean_webtext, sd_webtext)"
   ]
  },
  {
   "cell_type": "code",
   "execution_count": 29,
   "metadata": {},
   "outputs": [
    {
     "name": "stdout",
     "output_type": "stream",
     "text": [
      "3.079109923610435 2.534582560816421\n"
     ]
    }
   ],
   "source": [
    "data_webtext = _read_data('data/webtext.train_opt.model=.nll')\n",
    "data_webtext = np.concatenate([np.asarray(d) for d in data_webtext])\n",
    "mean_webtext = np.mean(data_webtext)\n",
    "sd_webtext = np.std(data_webtext)\n",
    "print(mean_webtext, sd_webtext)"
   ]
  },
  {
   "cell_type": "code",
   "execution_count": 11,
   "metadata": {},
   "outputs": [
    {
     "name": "stdout",
     "output_type": "stream",
     "text": [
      "2.962668870785458 2.839292108075002\n"
     ]
    }
   ],
   "source": [
    "data_webtext = _read_data('data/webtext.valid.model=.nll')\n",
    "data_webtext = np.concatenate([np.asarray(d) for d in data_webtext])\n",
    "mean_webtext = np.mean(data_webtext)\n",
    "sd_webtext = np.std(data_webtext)\n",
    "print(mean_webtext, sd_webtext)"
   ]
  },
  {
   "cell_type": "code",
   "execution_count": 12,
   "metadata": {},
   "outputs": [
    {
     "name": "stdout",
     "output_type": "stream",
     "text": [
      "2.9652812992051207 2.8350647759981302\n"
     ]
    }
   ],
   "source": [
    "data_webtext = _read_data('data/webtext.test.model=.nll')\n",
    "data_webtext = np.concatenate([np.asarray(d) for d in data_webtext])\n",
    "mean_webtext = np.mean(data_webtext)\n",
    "sd_webtext = np.std(data_webtext)\n",
    "print(mean_webtext, sd_webtext)"
   ]
  },
  {
   "cell_type": "code",
   "execution_count": 31,
   "metadata": {
    "collapsed": false,
    "jupyter": {
     "outputs_hidden": false
    }
   },
   "outputs": [
    {
     "data": {
      "text/plain": [
       "[<matplotlib.lines.Line2D at 0x7fae7c618c40>]"
      ]
     },
     "execution_count": 31,
     "metadata": {},
     "output_type": "execute_result"
    },
    {
     "data": {
      "image/png": "[encoded data removed]",
      "text/plain": [
       "<Figure size 432x288 with 1 Axes>"
      ]
     },
     "metadata": {
      "needs_background": "light"
     },
     "output_type": "display_data"
    }
   ],
   "source": [
    "data = _read_data('data/webtext.train.model=.nll')\n",
    "\n",
    "f, Pxx = signal.periodogram(data[0])\n",
    "plt.plot(f, Pxx)"
   ]
  },
  {
   "cell_type": "code",
   "execution_count": 32,
   "metadata": {},
   "outputs": [
    {
     "data": {
      "text/plain": [
       "[<matplotlib.lines.Line2D at 0x7fae7e199c10>]"
      ]
     },
     "execution_count": 32,
     "metadata": {},
     "output_type": "execute_result"
    },
    {
     "data": {
      "image/png": "[encoded data removed]",
      "text/plain": [
       "<Figure size 432x288 with 1 Axes>"
      ]
     },
     "metadata": {
      "needs_background": "light"
     },
     "output_type": "display_data"
    }
   ],
   "source": [
    "data = _read_data('data/webtext.train_opt.model=.nll')\n",
    "\n",
    "f, Pxx = signal.periodogram(data[0])\n",
    "plt.plot(f, Pxx)"
   ]
  },
  {
   "cell_type": "code",
   "execution_count": 17,
   "metadata": {},
   "outputs": [
    {
     "data": {
      "text/plain": [
       "[<matplotlib.lines.Line2D at 0x7fae7d298be0>]"
      ]
     },
     "execution_count": 17,
     "metadata": {},
     "output_type": "execute_result"
    },
    {
     "data": {
      "image/png": "[encoded data removed]",
      "text/plain": [
       "<Figure size 432x288 with 1 Axes>"
      ]
     },
     "metadata": {
      "needs_background": "light"
     },
     "output_type": "display_data"
    }
   ],
   "source": [
    "data = _read_data(\"data/webtext.valid.model=.nll\")\n",
    "\n",
    "f, Pxx = signal.periodogram(data[0])\n",
    "plt.plot(f, Pxx)"
   ]
  },
  {
   "cell_type": "code",
   "execution_count": 18,
   "metadata": {},
   "outputs": [
    {
     "data": {
      "text/plain": [
       "[<matplotlib.lines.Line2D at 0x7faea5803f10>]"
      ]
     },
     "execution_count": 18,
     "metadata": {},
     "output_type": "execute_result"
    },
    {
     "data": {
      "image/png": "[encoded data removed]",
      "text/plain": [
       "<Figure size 432x288 with 1 Axes>"
      ]
     },
     "metadata": {
      "needs_background": "light"
     },
     "output_type": "display_data"
    }
   ],
   "source": [
    "data = _read_data(\"data/webtext.test.model=.nll\")\n",
    "\n",
    "f, Pxx = signal.periodogram(data[0])\n",
    "plt.plot(f, Pxx)"
   ]
  },
  {
   "cell_type": "code",
   "execution_count": 27,
   "metadata": {
    "collapsed": false,
    "jupyter": {
     "outputs_hidden": false
    }
   },
   "outputs": [
    {
     "name": "stderr",
     "output_type": "stream",
     "text": [
      "100%|██████████| 5000/5000 [00:00<00:00, 5851.79it/s]"
     ]
    },
    {
     "name": "stdout",
     "output_type": "stream",
     "text": [
      "first element: \n",
      " [0.         0.0075188  0.01503759 0.02255639 0.03007519 0.03759398\n",
      " 0.04511278 0.05263158 0.06015038 0.06766917 0.07518797 0.08270677\n",
      " 0.09022556 0.09774436 0.10526316 0.11278195 0.12030075 0.12781955\n",
      " 0.13533835 0.14285714 0.15037594 0.15789474 0.16541353 0.17293233\n",
      " 0.18045113 0.18796992 0.19548872 0.20300752 0.21052632 0.21804511\n",
      " 0.22556391 0.23308271 0.2406015  0.2481203  0.2556391  0.26315789\n",
      " 0.27067669 0.27819549 0.28571429 0.29323308 0.30075188 0.30827068\n",
      " 0.31578947 0.32330827 0.33082707 0.33834586 0.34586466 0.35338346\n",
      " 0.36090226 0.36842105 0.37593985 0.38345865 0.39097744 0.39849624\n",
      " 0.40601504 0.41353383 0.42105263 0.42857143 0.43609023 0.44360902\n",
      " 0.45112782 0.45864662 0.46616541 0.47368421 0.48120301 0.4887218\n",
      " 0.4962406 ] --> [2.61569669e-30 1.11876837e+01 1.95526612e+01 4.78873556e+00\n",
      " 1.79885002e+01 6.13043788e+00 1.98579095e+01 4.57990527e+00\n",
      " 7.58359162e+00 8.90781895e+00 9.08892383e+00 8.78906530e+00\n",
      " 7.44120815e+00 1.45659225e+01 3.46348561e+00 7.91008092e+00\n",
      " 8.88793365e-01 1.46974350e+00 6.36159459e+00 4.21854919e+00\n",
      " 5.59590849e+00 2.59142337e+00 3.75220587e-01 4.84552880e-03\n",
      " 6.72447865e+00 8.02969945e+00 1.05926352e+00 1.07533877e+00\n",
      " 3.46235610e-01 8.18460775e+00 2.20543036e+00 1.15065825e+01\n",
      " 5.81239480e-01 6.01080448e+00 2.63597886e-01 4.03553590e+00\n",
      " 1.39131977e+00 9.81976841e-01 4.24364583e-01 3.42529408e+00\n",
      " 1.31782956e+00 1.89420141e+00 1.90981098e+00 2.40211171e-02\n",
      " 2.95604342e+00 4.01147414e-01 8.21750859e+00 2.69889947e+00\n",
      " 7.09610393e+00 4.44265565e+00 3.12413551e-01 7.52019329e-01\n",
      " 5.04766845e+00 7.84274816e-01 1.22942928e+00 2.74845528e+00\n",
      " 5.26694476e-01 2.80332548e+00 1.17340794e+00 2.15282111e-01\n",
      " 4.66721062e-01 4.53003977e+00 7.49047124e-01 2.28936468e+00\n",
      " 2.95490545e+00 2.36453888e-01 2.02508565e+00]\n",
      "for each element: <class 'numpy.ndarray'> --> <class 'numpy.ndarray'>\n",
      "as a whole: <class 'list'> --> <class 'list'>\n",
      "first row: 67 --> 67\n",
      "second row: 357 --> 357\n",
      "last row: 244 --> 244\n",
      "total length: 5000 --> 5000\n"
     ]
    },
    {
     "name": "stderr",
     "output_type": "stream",
     "text": [
      "\n"
     ]
    }
   ],
   "source": [
    "# Frequency Domain Statistics\n",
    "freqs, powers = compute_freqs_powers(data)\n",
    "print(\"first element:\", \"\\n\", freqs[0], \"-->\", powers[0])\n",
    "print(\"for each element:\", type(freqs[0]), \"-->\", type(powers[0]))\n",
    "print(\"as a whole:\", type(freqs), \"-->\", type(powers))\n",
    "print(\"first row:\", len(freqs[0]), \"-->\", len(powers[0]))\n",
    "print(\"second row:\", len(freqs[1]), \"-->\", len(powers[1]))\n",
    "print(\"last row:\", len(freqs[-1]), \"-->\", len(powers[-1]))\n",
    "print(\"total length:\", len(freqs), \"-->\", len(powers))"
   ]
  },
  {
   "cell_type": "code",
   "execution_count": 33,
   "metadata": {
    "collapsed": false,
    "jupyter": {
     "outputs_hidden": false
    }
   },
   "outputs": [
    {
     "data": {
      "text/html": [
       "<div>\n",
       "<style scoped>\n",
       "    .dataframe tbody tr th:only-of-type {\n",
       "        vertical-align: middle;\n",
       "    }\n",
       "\n",
       "    .dataframe tbody tr th {\n",
       "        vertical-align: top;\n",
       "    }\n",
       "\n",
       "    .dataframe thead th {\n",
       "        text-align: right;\n",
       "    }\n",
       "</style>\n",
       "<table border=\"1\" class=\"dataframe\">\n",
       "  <thead>\n",
       "    <tr style=\"text-align: right;\">\n",
       "      <th></th>\n",
       "      <th>freq</th>\n",
       "      <th>power</th>\n",
       "    </tr>\n",
       "  </thead>\n",
       "  <tbody>\n",
       "    <tr>\n",
       "      <th>0</th>\n",
       "      <td>0.000000</td>\n",
       "      <td>2.615697e-30</td>\n",
       "    </tr>\n",
       "    <tr>\n",
       "      <th>1</th>\n",
       "      <td>0.007519</td>\n",
       "      <td>1.118768e+01</td>\n",
       "    </tr>\n",
       "    <tr>\n",
       "      <th>2</th>\n",
       "      <td>0.015038</td>\n",
       "      <td>1.955266e+01</td>\n",
       "    </tr>\n",
       "    <tr>\n",
       "      <th>3</th>\n",
       "      <td>0.022556</td>\n",
       "      <td>4.788736e+00</td>\n",
       "    </tr>\n",
       "    <tr>\n",
       "      <th>4</th>\n",
       "      <td>0.030075</td>\n",
       "      <td>1.798850e+01</td>\n",
       "    </tr>\n",
       "    <tr>\n",
       "      <th>...</th>\n",
       "      <td>...</td>\n",
       "      <td>...</td>\n",
       "    </tr>\n",
       "    <tr>\n",
       "      <th>1451056</th>\n",
       "      <td>0.490760</td>\n",
       "      <td>1.282665e+01</td>\n",
       "    </tr>\n",
       "    <tr>\n",
       "      <th>1451057</th>\n",
       "      <td>0.492813</td>\n",
       "      <td>2.191290e+01</td>\n",
       "    </tr>\n",
       "    <tr>\n",
       "      <th>1451058</th>\n",
       "      <td>0.494867</td>\n",
       "      <td>1.688402e+01</td>\n",
       "    </tr>\n",
       "    <tr>\n",
       "      <th>1451059</th>\n",
       "      <td>0.496920</td>\n",
       "      <td>1.595560e+01</td>\n",
       "    </tr>\n",
       "    <tr>\n",
       "      <th>1451060</th>\n",
       "      <td>0.498973</td>\n",
       "      <td>3.227542e+01</td>\n",
       "    </tr>\n",
       "  </tbody>\n",
       "</table>\n",
       "<p>1451061 rows × 2 columns</p>\n",
       "</div>"
      ],
      "text/plain": [
       "             freq         power\n",
       "0        0.000000  2.615697e-30\n",
       "1        0.007519  1.118768e+01\n",
       "2        0.015038  1.955266e+01\n",
       "3        0.022556  4.788736e+00\n",
       "4        0.030075  1.798850e+01\n",
       "...           ...           ...\n",
       "1451056  0.490760  1.282665e+01\n",
       "1451057  0.492813  2.191290e+01\n",
       "1451058  0.494867  1.688402e+01\n",
       "1451059  0.496920  1.595560e+01\n",
       "1451060  0.498973  3.227542e+01\n",
       "\n",
       "[1451061 rows x 2 columns]"
      ]
     },
     "execution_count": 33,
     "metadata": {},
     "output_type": "execute_result"
    }
   ],
   "source": [
    "# Use test data to visualize dataframe\n",
    "df = pd.DataFrame.from_dict({\n",
    "    'freq': np.concatenate(freqs),\n",
    "    'power': np.concatenate(powers)\n",
    "})\n",
    "df # shape: [sum(len(row[i])), 2]"
   ]
  },
  {
   "cell_type": "code",
   "execution_count": 35,
   "metadata": {
    "collapsed": false,
    "jupyter": {
     "outputs_hidden": false
    }
   },
   "outputs": [
    {
     "data": {
      "image/png": "[encoded data removed]",
      "text/plain": [
       "<Figure size 640x480 with 1 Axes>"
      ]
     },
     "metadata": {},
     "output_type": "display_data"
    },
    {
     "data": {
      "text/plain": [
       "<ggplot: (8774219924944)>"
      ]
     },
     "execution_count": 35,
     "metadata": {},
     "output_type": "execute_result"
    }
   ],
   "source": [
    "# smoothed point diagram (test data)\n",
    "(\n",
    "    ggplot(df, aes(x='freq', y='power'))\n",
    "    + geom_smooth() + geom_point()\n",
    ")"
   ]
  },
  {
   "cell_type": "code",
   "execution_count": 37,
   "metadata": {
    "collapsed": false,
    "jupyter": {
     "outputs_hidden": false
    }
   },
   "outputs": [
    {
     "name": "stderr",
     "output_type": "stream",
     "text": [
      "100%|██████████| 9310/9310 [00:01<00:00, 7694.77it/s]\n"
     ]
    }
   ],
   "source": [
    "# webtext-train pipeline\n",
    "data = _read_data('data/webtext.train.model=.nll')\n",
    "data_norm = [(np.asarray(d) - mean_webtext)/sd_webtext for d in data]\n",
    "freqs, powers = compute_freqs_powers(data_norm)\n",
    "df = pd.DataFrame.from_dict({\n",
    "    'freq': np.concatenate(freqs),\n",
    "    'power': np.concatenate(powers)\n",
    "})\n",
    "df.to_csv('plot/webtext_freq_power_1k_train.csv', index=False)"
   ]
  },
  {
   "cell_type": "code",
   "execution_count": 38,
   "metadata": {},
   "outputs": [
    {
     "name": "stderr",
     "output_type": "stream",
     "text": [
      "100%|██████████| 5273/5273 [00:00<00:00, 8670.44it/s]\n"
     ]
    }
   ],
   "source": [
    "# opt1.3b-125m pipeline\n",
    "data = _read_data('data/webtext.train_opt.model=.nll')\n",
    "data_norm = [(np.asarray(d) - mean_webtext)/sd_webtext for d in data]\n",
    "freqs, powers = compute_freqs_powers(data_norm)\n",
    "df = pd.DataFrame.from_dict({\n",
    "    'freq': np.concatenate(freqs),\n",
    "    'power': np.concatenate(powers)\n",
    "})\n",
    "df.to_csv('plot/webtext_freq_power_1k_opt.csv', index=False)"
   ]
  },
  {
   "cell_type": "code",
   "execution_count": 39,
   "metadata": {},
   "outputs": [
    {
     "name": "stderr",
     "output_type": "stream",
     "text": [
      "100%|██████████| 5000/5000 [00:00<00:00, 7682.80it/s]\n"
     ]
    }
   ],
   "source": [
    "# webtext-valid pipeline\n",
    "data = _read_data('data/webtext.valid.model=.nll')\n",
    "data_norm = [(np.asarray(d) - mean_webtext)/sd_webtext for d in data]\n",
    "freqs, powers = compute_freqs_powers(data_norm)\n",
    "df = pd.DataFrame.from_dict({\n",
    "    'freq': np.concatenate(freqs),\n",
    "    'power': np.concatenate(powers)\n",
    "})\n",
    "df.to_csv('plot/webtext_freq_power_1k_valid.csv', index=False)"
   ]
  },
  {
   "cell_type": "code",
   "execution_count": 40,
   "metadata": {},
   "outputs": [
    {
     "name": "stderr",
     "output_type": "stream",
     "text": [
      "100%|██████████| 5000/5000 [00:00<00:00, 7739.09it/s]\n"
     ]
    }
   ],
   "source": [
    "# webtext-test pipeline\n",
    "data = _read_data('data/webtext.test.model=.nll')\n",
    "data_norm = [(np.asarray(d) - mean_webtext)/sd_webtext for d in data]\n",
    "freqs, powers = compute_freqs_powers(data_norm)\n",
    "df = pd.DataFrame.from_dict({\n",
    "    'freq': np.concatenate(freqs),\n",
    "    'power': np.concatenate(powers)\n",
    "})\n",
    "df.to_csv('plot/webtext_freq_power_1k_test.csv', index=False)"
   ]
  },
  {
   "cell_type": "markdown",
   "metadata": {
    "jp-MarkdownHeadingCollapsed": true,
    "tags": []
   },
   "source": [
    "## Use fp_pipeline() to run experiments"
   ]
  },
  {
   "cell_type": "code",
   "execution_count": 4,
   "metadata": {
    "collapsed": false,
    "jupyter": {
     "outputs_hidden": false
    }
   },
   "outputs": [
    {
     "name": "stderr",
     "output_type": "stream",
     "text": [
      "100%|██████████| 5000/5000 [00:00<00:00, 22252.48it/s]\n",
      "100%|██████████| 5000/5000 [00:00<00:00, 22613.90it/s]\n",
      "100%|██████████| 5000/5000 [00:00<00:00, 22819.69it/s]\n",
      "100%|██████████| 5000/5000 [00:00<00:00, 23126.75it/s]\n"
     ]
    }
   ],
   "source": [
    "# Estimated entropy in webtext.test, using 4 models: gpt2, gpt2-medium, -large, -xl\n",
    "input_files = ['webtext.test.model=gpt2.nll',\n",
    "               'webtext.test.model=gpt2-medium.nll',\n",
    "               'webtext.test.model=gpt2-large.nll',\n",
    "               'webtext.test.model=gpt2-xl.nll']\n",
    "\n",
    "for in_file in input_files:\n",
    "    df = fp_pipeline('data/' + in_file)\n",
    "    df.to_csv('plot/' + in_file[:-4] + '.freq_power.csv', index=False)"
   ]
  },
  {
   "cell_type": "code",
   "execution_count": 5,
   "metadata": {
    "collapsed": false,
    "jupyter": {
     "outputs_hidden": false
    }
   },
   "outputs": [
    {
     "name": "stderr",
     "output_type": "stream",
     "text": [
      "100%|██████████| 5000/5000 [00:00<00:00, 22532.58it/s]\n",
      "100%|██████████| 5000/5000 [00:00<00:00, 22387.39it/s]\n",
      "100%|██████████| 5000/5000 [00:00<00:00, 22719.91it/s]\n",
      "100%|██████████| 5000/5000 [00:00<00:00, 22824.58it/s]\n"
     ]
    }
   ],
   "source": [
    "input_files = ['small-117M.test.model=gpt2.nll',\n",
    "               'small-117M.test.model=gpt2-medium.nll',\n",
    "               'small-117M.test.model=gpt2-large.nll',\n",
    "               'small-117M.test.model=gpt2-xl.nll']\n",
    "\n",
    "for in_file in input_files:\n",
    "    df = fp_pipeline('data/' + in_file)\n",
    "    df.to_csv('plot/' + in_file[:-4] + '.freq_power.csv', index=False)"
   ]
  },
  {
   "cell_type": "code",
   "execution_count": 6,
   "metadata": {
    "collapsed": false,
    "jupyter": {
     "outputs_hidden": false
    }
   },
   "outputs": [
    {
     "name": "stderr",
     "output_type": "stream",
     "text": [
      "100%|██████████| 5000/5000 [00:00<00:00, 22884.35it/s]\n",
      "100%|██████████| 5000/5000 [00:00<00:00, 22759.36it/s]\n",
      "100%|██████████| 5000/5000 [00:00<00:00, 22390.64it/s]\n",
      "100%|██████████| 5000/5000 [00:00<00:00, 22975.29it/s]\n"
     ]
    }
   ],
   "source": [
    "input_files = ['small-117M-k40.test.model=gpt2.nll',\n",
    "               'small-117M-k40.test.model=gpt2-medium.nll',\n",
    "               'small-117M-k40.test.model=gpt2-large.nll',\n",
    "               'small-117M-k40.test.model=gpt2-xl.nll']\n",
    "\n",
    "for in_file in input_files:\n",
    "    df = fp_pipeline('data/' + in_file)\n",
    "    df.to_csv('plot/' + in_file[:-4] + '.freq_power.csv', index=False)"
   ]
  },
  {
   "cell_type": "code",
   "execution_count": 7,
   "metadata": {
    "collapsed": false,
    "jupyter": {
     "outputs_hidden": false
    }
   },
   "outputs": [
    {
     "name": "stderr",
     "output_type": "stream",
     "text": [
      "100%|██████████| 5000/5000 [00:00<00:00, 23022.60it/s]\n",
      "100%|██████████| 5000/5000 [00:00<00:00, 23076.67it/s]\n",
      "100%|██████████| 5000/5000 [00:00<00:00, 23046.77it/s]\n",
      "100%|██████████| 5000/5000 [00:00<00:00, 23238.33it/s]\n"
     ]
    }
   ],
   "source": [
    "input_files = ['medium-345M.test.model=gpt2.nll',\n",
    "               'medium-345M.test.model=gpt2-medium.nll',\n",
    "               'medium-345M.test.model=gpt2-large.nll',\n",
    "               'medium-345M.test.model=gpt2-xl.nll']\n",
    "\n",
    "for in_file in input_files:\n",
    "    df = fp_pipeline('data/' + in_file)\n",
    "    df.to_csv('plot/' + in_file[:-4] + '.freq_power.csv', index=False)"
   ]
  },
  {
   "cell_type": "code",
   "execution_count": 9,
   "metadata": {
    "collapsed": false,
    "jupyter": {
     "outputs_hidden": false
    }
   },
   "outputs": [
    {
     "name": "stderr",
     "output_type": "stream",
     "text": [
      "100%|██████████| 5000/5000 [00:00<00:00, 22715.50it/s]\n",
      "100%|██████████| 5000/5000 [00:00<00:00, 22457.97it/s]\n",
      "100%|██████████| 5000/5000 [00:00<00:00, 22713.24it/s]\n",
      "100%|██████████| 5000/5000 [00:00<00:00, 22268.24it/s]\n"
     ]
    }
   ],
   "source": [
    "input_files = ['medium-345M-k40.test.model=gpt2.nll',\n",
    "               'medium-345M-k40.test.model=gpt2-medium.nll',\n",
    "               'medium-345M-k40.test.model=gpt2-large.nll',\n",
    "               'medium-345M-k40.test.model=gpt2-xl.nll']\n",
    "\n",
    "for in_file in input_files:\n",
    "    df = fp_pipeline('data/' + in_file)\n",
    "    df.to_csv('plot/' + in_file[:-4] + '.freq_power.csv', index=False)"
   ]
  },
  {
   "cell_type": "code",
   "execution_count": 10,
   "metadata": {
    "collapsed": false,
    "jupyter": {
     "outputs_hidden": false
    }
   },
   "outputs": [
    {
     "name": "stderr",
     "output_type": "stream",
     "text": [
      "100%|██████████| 5000/5000 [00:00<00:00, 23244.38it/s]\n",
      "100%|██████████| 5000/5000 [00:00<00:00, 22988.08it/s]\n",
      "100%|██████████| 5000/5000 [00:00<00:00, 22890.82it/s]\n",
      "100%|██████████| 5000/5000 [00:00<00:00, 21683.50it/s]\n"
     ]
    }
   ],
   "source": [
    "input_files = ['large-762M.test.model=gpt2.nll',\n",
    "               'large-762M.test.model=gpt2-medium.nll',\n",
    "               'large-762M.test.model=gpt2-large.nll',\n",
    "               'large-762M.test.model=gpt2-xl.nll']\n",
    "\n",
    "for in_file in input_files:\n",
    "    df = fp_pipeline('data/' + in_file)\n",
    "    df.to_csv('plot/' + in_file[:-4] + '.freq_power.csv', index=False)"
   ]
  },
  {
   "cell_type": "code",
   "execution_count": 11,
   "metadata": {
    "collapsed": false,
    "jupyter": {
     "outputs_hidden": false
    }
   },
   "outputs": [
    {
     "name": "stderr",
     "output_type": "stream",
     "text": [
      "100%|██████████| 5000/5000 [00:00<00:00, 22296.54it/s]\n",
      "100%|██████████| 5000/5000 [00:00<00:00, 22203.06it/s]\n",
      "100%|██████████| 5000/5000 [00:00<00:00, 22086.07it/s]\n",
      "100%|██████████| 5000/5000 [00:00<00:00, 21524.44it/s]\n"
     ]
    }
   ],
   "source": [
    "input_files = ['large-762M-k40.test.model=gpt2.nll',\n",
    "               'large-762M-k40.test.model=gpt2-medium.nll',\n",
    "               'large-762M-k40.test.model=gpt2-large.nll',\n",
    "               'large-762M-k40.test.model=gpt2-xl.nll']\n",
    "\n",
    "for in_file in input_files:\n",
    "    df = fp_pipeline('data/' + in_file)\n",
    "    df.to_csv('plot/' + in_file[:-4] + '.freq_power.csv', index=False)"
   ]
  },
  {
   "cell_type": "code",
   "execution_count": 12,
   "metadata": {
    "collapsed": false,
    "jupyter": {
     "outputs_hidden": false
    }
   },
   "outputs": [
    {
     "name": "stderr",
     "output_type": "stream",
     "text": [
      "100%|██████████| 5000/5000 [00:00<00:00, 22272.90it/s]\n",
      "100%|██████████| 5000/5000 [00:00<00:00, 23708.82it/s]\n",
      "100%|██████████| 5000/5000 [00:00<00:00, 23588.02it/s]\n",
      "100%|██████████| 5000/5000 [00:00<00:00, 22636.43it/s]\n"
     ]
    }
   ],
   "source": [
    "input_files = ['xl-1542M.test.model=gpt2.nll',\n",
    "               'xl-1542M.test.model=gpt2-medium.nll',\n",
    "               'xl-1542M.test.model=gpt2-large.nll',\n",
    "               'xl-1542M.test.model=gpt2-xl.nll']\n",
    "\n",
    "for in_file in input_files:\n",
    "    df = fp_pipeline('data/' + in_file)\n",
    "    df.to_csv('plot/' + in_file[:-4] + '.freq_power.csv', index=False)"
   ]
  },
  {
   "cell_type": "code",
   "execution_count": 13,
   "metadata": {
    "collapsed": false,
    "jupyter": {
     "outputs_hidden": false
    }
   },
   "outputs": [
    {
     "name": "stderr",
     "output_type": "stream",
     "text": [
      "100%|██████████| 5000/5000 [00:00<00:00, 22572.35it/s]\n",
      "100%|██████████| 5000/5000 [00:00<00:00, 22854.85it/s]\n",
      "100%|██████████| 5000/5000 [00:00<00:00, 22123.42it/s]\n",
      "100%|██████████| 5000/5000 [00:00<00:00, 22583.05it/s]\n"
     ]
    }
   ],
   "source": [
    "input_files = ['xl-1542M-k40.test.model=gpt2.nll',\n",
    "               'xl-1542M-k40.test.model=gpt2-medium.nll',\n",
    "               'xl-1542M-k40.test.model=gpt2-large.nll',\n",
    "               'xl-1542M-k40.test.model=gpt2-xl.nll']\n",
    "\n",
    "for in_file in input_files:\n",
    "    df = fp_pipeline('data/' + in_file)\n",
    "    df.to_csv('plot/' + in_file[:-4] + '.freq_power.csv', index=False)"
   ]
  },
  {
   "cell_type": "code",
   "execution_count": 6,
   "metadata": {
    "collapsed": false,
    "jupyter": {
     "outputs_hidden": false
    }
   },
   "outputs": [
    {
     "name": "stderr",
     "output_type": "stream",
     "text": [
      "100%|██████████| 5000/5000 [00:00<00:00, 6329.99it/s]\n"
     ]
    }
   ],
   "source": [
    "# degen output data\n",
    "input_files = [\n",
    "    # 'unconditional_puresampling_large.model=gpt2.nll',\n",
    "    # 'unconditional_sampling_t=0.9_large.model=gpt2.nll',\n",
    "    # 'unconditional_topk_k=40_t=0.7_large.model=gpt2.nll',\n",
    "    # 'unconditional_topk_k=640_large.model=gpt2.nll',\n",
    "    # 'unconditional_topp_p=0.95_large.model=gpt2.nll',\n",
    "    'unconditional_gold.model=gpt2.nll']\n",
    "\n",
    "for in_file in input_files:\n",
    "    df = fp_pipeline('data/data_degen/unconditional/' + in_file)\n",
    "    df.to_csv('plot/' + in_file[:-4] + '.freq_power.csv', index=False)"
   ]
  }
 ],
 "metadata": {
  "kernelspec": {
   "display_name": "Python 3 (ipykernel)",
   "language": "python",
   "name": "python3"
  },
  "language_info": {
   "codemirror_mode": {
    "name": "ipython",
    "version": 3
   },
   "file_extension": ".py",
   "mimetype": "text/x-python",
   "name": "python",
   "nbconvert_exporter": "python",
   "pygments_lexer": "ipython3",
   "version": "3.8.10"
  },
  "vscode": {
   "interpreter": {
    "hash": "44806c3c24a59c3d08d4560719a0471ba0aaf028140eb86c3aa3632057267068"
   }
  }
 },
 "nbformat": 4,
 "nbformat_minor": 4
}
