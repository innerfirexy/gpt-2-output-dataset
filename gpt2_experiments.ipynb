{
 "cells": [
  {
   "cell_type": "code",
   "execution_count": null,
   "metadata": {},
   "outputs": [],
   "source": [
    "from transformers import GPT2LMHeadModel, GPT2Tokenizer\n",
    "import numpy as np\n",
    "import os\n",
    "import json\n",
    "import torch\n",
    "import math\n",
    "import torch.nn as nn\n",
    "from einops import rearrange"
   ]
  },
  {
   "cell_type": "code",
   "execution_count": 2,
   "metadata": {},
   "outputs": [
    {
     "data": {
      "text/plain": "Downloading:   0%|          | 0.00/1.04M [00:00<?, ?B/s]",
      "application/vnd.jupyter.widget-view+json": {
       "version_major": 2,
       "version_minor": 0,
       "model_id": "3a288dcc627341ada777b28cfefe776c"
      }
     },
     "metadata": {},
     "output_type": "display_data"
    },
    {
     "data": {
      "text/plain": "Downloading:   0%|          | 0.00/456k [00:00<?, ?B/s]",
      "application/vnd.jupyter.widget-view+json": {
       "version_major": 2,
       "version_minor": 0,
       "model_id": "e7019ede33c945949ffbc14cc81adc2c"
      }
     },
     "metadata": {},
     "output_type": "display_data"
    }
   ],
   "source": [
    "# gpt2 = GPT2LMHeadModel.from_pretrained('gpt2')\n",
    "gpt2_large = GPT2LMHeadModel.from_pretrained('gpt2-large')\n",
    "tokenizer_large = GPT2Tokenizer.from_pretrained('gpt2-large')"
   ]
  },
  {
   "cell_type": "code",
   "execution_count": null,
   "metadata": {},
   "outputs": [],
   "source": [
    "# print(vars(gpt2).keys())\n",
    "# print(vars(gpt2)['config'])\n",
    "# \"n_ctx\": 1024,\n",
    "# \"n_embd\": 768,\n",
    "# \"n_head\": 12,\n",
    "# \"n_inner\": null,\n",
    "# \"n_layer\": 12,\n",
    "# \"n_positions\": 1024,\n",
    "\n",
    "# print(vars(gpt2_large)['config'])\n",
    "# \"n_ctx\": 1024,\n",
    "# \"n_embd\": 1280,\n",
    "# \"n_head\": 20,\n",
    "# \"n_inner\": null,\n",
    "# \"n_layer\": 36,\n",
    "# \"n_positions\": 1024,"
   ]
  },
  {
   "cell_type": "code",
   "execution_count": 3,
   "outputs": [
    {
     "name": "stdout",
     "output_type": "stream",
     "text": [
      "dict_keys(['training', '_parameters', '_buffers', '_non_persistent_buffers_set', '_backward_hooks', '_is_full_backward_hook', '_forward_hooks', '_forward_pre_hooks', '_state_dict_hooks', '_load_state_dict_pre_hooks', '_load_state_dict_post_hooks', '_modules', 'config', 'name_or_path', 'warnings_issued', 'model_parallel', 'device_map'])\n"
     ]
    }
   ],
   "source": [
    "print(vars(gpt2_large).keys())\n",
    "# print(gpt2_large._modules)"
   ],
   "metadata": {
    "collapsed": false
   }
  },
  {
   "cell_type": "code",
   "execution_count": 4,
   "outputs": [
    {
     "name": "stdout",
     "output_type": "stream",
     "text": [
      "True\n",
      "<class 'transformers.models.gpt2.modeling_gpt2.GPT2Model'>\n",
      "<class 'transformers.models.gpt2.modeling_gpt2.GPT2Model'>\n",
      "36\n",
      "Linear(in_features=1280, out_features=50257, bias=False)\n",
      "True\n"
     ]
    }
   ],
   "source": [
    "# From https://github.com/huggingface/transformers/issues/18282\n",
    "print(gpt2_large._modules['transformer'].wte.weight.requires_grad)\n",
    "print(type(gpt2_large._modules['transformer']))\n",
    "print(type(gpt2_large.transformer))\n",
    "print(len(gpt2_large.transformer.h))\n",
    "print(gpt2_large.lm_head)\n",
    "print(gpt2_large.lm_head.weight.requires_grad)"
   ],
   "metadata": {
    "collapsed": false
   }
  },
  {
   "cell_type": "code",
   "execution_count": 37,
   "outputs": [
    {
     "name": "stdout",
     "output_type": "stream",
     "text": [
      "<class 'transformers.models.gpt2.modeling_gpt2.GPT2Model'>\n",
      "<class 'generator'>\n",
      "<class 'generator'>\n",
      "True\n"
     ]
    }
   ],
   "source": [
    "print(type(gpt2_large.base_model))\n",
    "print(type(gpt2_large.base_model.parameters()))\n",
    "print(type(gpt2_large.base_model.named_parameters()))\n",
    "\n",
    "# The following demo of named parameters are from https://github.com/huggingface/transformers/blob/v4.24.0/src/transformers/models/gpt2/modeling_gpt2.py#L667\n",
    "# for name, p in gpt2_large.base_model.named_parameters():\n",
    "#     print(name)\n",
    "\n",
    "# We can notice that wte.weight and lm_head are actually shared parameters\n",
    "print(torch.equal(gpt2_large.lm_head.weight,\n",
    "                    gpt2_large.transformer.wte.weight))\n",
    "# The two tensors are equal"
   ],
   "metadata": {
    "collapsed": false
   }
  },
  {
   "cell_type": "code",
   "execution_count": 28,
   "outputs": [
    {
     "name": "stdout",
     "output_type": "stream",
     "text": [
      "total params #: 436\n",
      "trainable params #: 0\n",
      "frozen params #: 436\n"
     ]
    }
   ],
   "source": [
    "# from: https://huggingface.co/transformers/v4.5.1/training.html\n",
    "trainable_params_count = 0\n",
    "frozen_params_count = 0\n",
    "total_params_count = 0\n",
    "for param in gpt2_large.base_model.parameters():\n",
    "    if param.requires_grad:\n",
    "        trainable_params_count += 1\n",
    "    else:\n",
    "        frozen_params_count += 1\n",
    "    total_params_count += 1\n",
    "    # print(param.requires_grad)\n",
    "\n",
    "print('total params #:', total_params_count)\n",
    "print('trainable params #:', trainable_params_count)\n",
    "print('frozen params #:', frozen_params_count)"
   ],
   "metadata": {
    "collapsed": false
   }
  },
  {
   "cell_type": "code",
   "execution_count": 27,
   "outputs": [
    {
     "name": "stdout",
     "output_type": "stream",
     "text": [
      "GPT2Block(\n",
      "  (ln_1): LayerNorm((1280,), eps=1e-05, elementwise_affine=True)\n",
      "  (attn): GPT2Attention(\n",
      "    (c_attn): Conv1D()\n",
      "    (c_proj): Conv1D()\n",
      "    (attn_dropout): Dropout(p=0.1, inplace=False)\n",
      "    (resid_dropout): Dropout(p=0.1, inplace=False)\n",
      "  )\n",
      "  (ln_2): LayerNorm((1280,), eps=1e-05, elementwise_affine=True)\n",
      "  (mlp): GPT2MLP(\n",
      "    (c_fc): Conv1D()\n",
      "    (c_proj): Conv1D()\n",
      "    (act): NewGELUActivation()\n",
      "    (dropout): Dropout(p=0.1, inplace=False)\n",
      "  )\n",
      ")\n",
      "False\n",
      "False\n"
     ]
    }
   ],
   "source": [
    "gpt2_large.lm_head.weight.requires_grad = False\n",
    "print(gpt2_large.transformer.h[-1])\n",
    "\n",
    "print(gpt2_large._modules['transformer'].wte.weight.requires_grad)\n",
    "print(gpt2_large.lm_head.weight.requires_grad)"
   ],
   "metadata": {
    "collapsed": false
   }
  },
  {
   "cell_type": "code",
   "execution_count": null,
   "metadata": {},
   "outputs": [],
   "source": [
    "def _load_split_bykey(data_dir, source, split, key='text', n=np.inf):\n",
    "    path = os.path.join(data_dir, f'{source}.{split}.jsonl')\n",
    "    data = []\n",
    "    for i, line in enumerate(open(path)):\n",
    "        if i >= n:\n",
    "            break\n",
    "        data.append(json.loads(line)[key])\n",
    "    return data"
   ]
  },
  {
   "cell_type": "code",
   "execution_count": null,
   "metadata": {},
   "outputs": [],
   "source": [
    "# webtext_train = _load_split_bykey('data/', 'webtext', 'train', key='text')\n",
    "webtext_train_lens = _load_split_bykey('data/', 'webtext', 'train', key='length')"
   ]
  },
  {
   "cell_type": "code",
   "execution_count": null,
   "metadata": {},
   "outputs": [],
   "source": [
    "print(max(webtext_train_lens))\n",
    "# no problem, <= n_positions == 1024"
   ]
  },
  {
   "cell_type": "code",
   "execution_count": null,
   "outputs": [],
   "source": [
    "# Examine degen data\n",
    "def _load_degen_data(data_dir: str, filename: str, n=np.inf, return_type='json'):\n",
    "    path = os.path.join(data_dir, filename)\n",
    "    data = []\n",
    "    for i, line in enumerate(open(path, 'r')):\n",
    "        if i >= n:\n",
    "            break\n",
    "        try:\n",
    "            obj = json.loads(line)\n",
    "        except Exception:\n",
    "            print(line)\n",
    "            raise\n",
    "\n",
    "        if return_type == 'json':\n",
    "            data.append(obj)\n",
    "        else:\n",
    "            data.append(obj['string'])\n",
    "\n",
    "    return data"
   ],
   "metadata": {
    "collapsed": false
   }
  },
  {
   "cell_type": "code",
   "execution_count": null,
   "outputs": [],
   "source": [
    "lines = _load_degen_data('data/data_degen/unconditional', 'unconditional_gold.jsonl', n=1)\n",
    "line1 = lines[0]"
   ],
   "metadata": {
    "collapsed": false
   }
  },
  {
   "cell_type": "code",
   "execution_count": null,
   "outputs": [],
   "source": [
    "print(len(line1['tokens']))"
   ],
   "metadata": {
    "collapsed": false
   }
  },
  {
   "cell_type": "code",
   "execution_count": null,
   "outputs": [],
   "source": [
    "line1_encoded = tokenizer_large(line1['string'], return_tensors='pt')"
   ],
   "metadata": {
    "collapsed": false
   }
  },
  {
   "cell_type": "code",
   "execution_count": null,
   "outputs": [],
   "source": [
    "line1_encoded['input_ids']"
   ],
   "metadata": {
    "collapsed": false
   }
  },
  {
   "cell_type": "code",
   "execution_count": null,
   "outputs": [],
   "source": [
    "torch.equal(torch.tensor(line1['tokens'], dtype=torch.long), line1_encoded['input_ids'].squeeze())\n",
    "# line1['tokens'] and line1_encoded['input_ids'] are equal"
   ],
   "metadata": {
    "collapsed": false
   }
  },
  {
   "cell_type": "code",
   "execution_count": null,
   "outputs": [],
   "source": [
    "line1_output = gpt2_large(**line1_encoded, labels=line1_encoded['input_ids'])"
   ],
   "metadata": {
    "collapsed": false
   }
  },
  {
   "cell_type": "code",
   "execution_count": null,
   "outputs": [],
   "source": [
    "print(line1_output.loss)"
   ],
   "metadata": {
    "collapsed": false
   }
  },
  {
   "cell_type": "code",
   "execution_count": null,
   "outputs": [],
   "source": [
    "math.exp(line1_output.loss.item())"
   ],
   "metadata": {
    "collapsed": false
   }
  },
  {
   "cell_type": "code",
   "execution_count": null,
   "outputs": [],
   "source": [
    "logits = line1_output.logits\n",
    "target = line1_encoded['input_ids']\n",
    "logits = rearrange(logits, 'B L V -> B V L')\n",
    "\n",
    "shift_logits = logits[..., :-1]\n",
    "shift_target = target[..., 1:]"
   ],
   "metadata": {
    "collapsed": false
   }
  },
  {
   "cell_type": "code",
   "execution_count": null,
   "outputs": [],
   "source": [
    "criterian = nn.NLLLoss(reduction='none')\n",
    "log_softmax = nn.LogSoftmax(dim=1)"
   ],
   "metadata": {
    "collapsed": false
   }
  },
  {
   "cell_type": "code",
   "execution_count": null,
   "outputs": [],
   "source": [
    "with torch.no_grad():\n",
    "    nll_loss = criterian(log_softmax(shift_logits), shift_target).squeeze()"
   ],
   "metadata": {
    "collapsed": false
   }
  },
  {
   "cell_type": "code",
   "execution_count": null,
   "outputs": [],
   "source": [
    "print(nll_loss)\n",
    "print(nll_loss.size())"
   ],
   "metadata": {
    "collapsed": false
   }
  },
  {
   "cell_type": "code",
   "execution_count": null,
   "outputs": [],
   "source": [
    "print(line1['nll4tok'])"
   ],
   "metadata": {
    "collapsed": false
   }
  },
  {
   "cell_type": "code",
   "execution_count": null,
   "outputs": [],
   "source": [
    "with torch.no_grad():\n",
    "    nll_loss2 = criterian(log_softmax(logits), target).squeeze()"
   ],
   "metadata": {
    "collapsed": false
   }
  },
  {
   "cell_type": "code",
   "execution_count": null,
   "outputs": [],
   "source": [
    "print(nll_loss2)"
   ],
   "metadata": {
    "collapsed": false
   }
  },
  {
   "cell_type": "code",
   "execution_count": null,
   "outputs": [],
   "source": [],
   "metadata": {
    "collapsed": false
   }
  }
 ],
 "metadata": {
  "kernelspec": {
   "display_name": "Python 3.9.6 64-bit ('3.9.6')",
   "language": "python",
   "name": "python3"
  },
  "language_info": {
   "codemirror_mode": {
    "name": "ipython",
    "version": 3
   },
   "file_extension": ".py",
   "mimetype": "text/x-python",
   "name": "python",
   "nbconvert_exporter": "python",
   "pygments_lexer": "ipython3",
   "version": "3.9.6"
  },
  "orig_nbformat": 4,
  "vscode": {
   "interpreter": {
    "hash": "25f78cd986e649f5a1fa57f7be9a497a8fd91952316ec3e436af56ac9acfc630"
   }
  }
 },
 "nbformat": 4,
 "nbformat_minor": 2
}
