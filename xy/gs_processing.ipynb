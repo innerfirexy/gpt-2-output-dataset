{
 "cells": [
  {
   "cell_type": "code",
   "execution_count": 4,
   "outputs": [],
   "source": [
    "import glob\n",
    "import os\n",
    "import json\n",
    "from typing import List"
   ],
   "metadata": {
    "collapsed": false
   }
  },
  {
   "cell_type": "code",
   "execution_count": 7,
   "outputs": [
    {
     "name": "stdout",
     "output_type": "stream",
     "text": [
      "['../data/golden_references_James_20230410/news/news_1.jsonl', '../data/golden_references_James_20230410/news/news_3.jsonl', '../data/golden_references_James_20230410/news/news_2.jsonl', '../data/golden_references_James_20230410/news/news_0.jsonl', '../data/golden_references_James_20230410/news/news_4.jsonl']\n"
     ]
    }
   ],
   "source": [
    "data_dir = '../data/golden_references_James_20230410'\n",
    "\n",
    "news_dir = os.path.join(data_dir, 'news')\n",
    "\n",
    "news_json_files = glob.glob(os.path.join(news_dir, '*.jsonl'))\n",
    "print(news_json_files)"
   ],
   "metadata": {
    "collapsed": false
   }
  },
  {
   "cell_type": "code",
   "execution_count": 5,
   "outputs": [],
   "source": [
    "def jsonl_to_text(json_file) -> List[str]:\n",
    "    with open(json_file, 'r') as f:\n",
    "        lines = f.readlines()\n",
    "    return [json.loads(line)['text'] for line in lines]"
   ],
   "metadata": {
    "collapsed": false
   }
  },
  {
   "cell_type": "code",
   "execution_count": 6,
   "outputs": [
    {
     "name": "stdout",
     "output_type": "stream",
     "text": [
      "['The following statements\\xa0were posted to the verified Twitter accounts of U.S. President Donald Trump, @realDonaldTrump and @POTUS.  The opinions expressed are his own.\\xa0Reuters has not edited the statements or confirmed their accuracy.  @realDonaldTrump : - While the Fake News loves to talk about my so-called low approval rating, @foxandfriends just showed that my rating on Dec. 28, 2017, was approximately the same as President Obama on Dec. 28, 2009, which was 47%...and this despite massive negative Trump coverage & Russia hoax! [0746 EST] - Why is the United States Post Office, which is losing many billions of dollars a year, while charging Amazon and others so little to deliver their packages, making Amazon richer and the Post Office dumber and poorer? Should be charging MUCH MORE! [0804 EST] -- Source link: (bit.ly/2jBh4LU) (bit.ly/2jpEXYR) ']\n"
     ]
    }
   ],
   "source": [
    "news_text = jsonl_to_text(news_json_files[0])\n",
    "print(news_text[:1])"
   ],
   "metadata": {
    "collapsed": false
   }
  },
  {
   "cell_type": "code",
   "execution_count": null,
   "outputs": [],
   "source": [],
   "metadata": {
    "collapsed": false
   }
  }
 ],
 "metadata": {
  "kernelspec": {
   "display_name": "Python 3",
   "language": "python",
   "name": "python3"
  },
  "language_info": {
   "codemirror_mode": {
    "name": "ipython",
    "version": 2
   },
   "file_extension": ".py",
   "mimetype": "text/x-python",
   "name": "python",
   "nbconvert_exporter": "python",
   "pygments_lexer": "ipython2",
   "version": "2.7.6"
  }
 },
 "nbformat": 4,
 "nbformat_minor": 0
}
