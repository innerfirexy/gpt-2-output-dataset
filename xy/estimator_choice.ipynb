{
 "cells": [
  {
   "cell_type": "code",
   "execution_count": 18,
   "metadata": {
    "collapsed": true
   },
   "outputs": [],
   "source": [
    "import os\n",
    "import glob\n",
    "import SpectrumTools as st\n",
    "\n",
    "from scipy.stats import ttest_ind\n",
    "import pandas as pd\n",
    "import numpy as np"
   ]
  },
  {
   "cell_type": "code",
   "execution_count": 4,
   "outputs": [
    {
     "name": "stdout",
     "output_type": "stream",
     "text": [
      "4\n",
      "4\n",
      "['../data/estimator_choice/webtext.test.model=gpt2-large.fft.csv', '../data/estimator_choice/webtext.test.model=gpt2-medium.fft.csv', '../data/estimator_choice/webtext.test.model=gpt2-xl.fft.csv', '../data/estimator_choice/webtext.test.model=gpt2.fft.csv']\n"
     ]
    }
   ],
   "source": [
    "data_dir = '../data/estimator_choice/'\n",
    "\n",
    "webtext_files = glob.glob(os.path.join(data_dir, 'webtext*.fft.csv'))\n",
    "gpt2sm_files = glob.glob(os.path.join(data_dir, 'small-117M*.fft.csv'))\n",
    "\n",
    "print(len(webtext_files))\n",
    "print(len(gpt2sm_files))\n",
    "\n",
    "print(sorted(webtext_files))"
   ],
   "metadata": {
    "collapsed": false
   }
  },
  {
   "cell_type": "code",
   "execution_count": 6,
   "outputs": [
    {
     "name": "stdout",
     "output_type": "stream",
     "text": [
      "SO_webtext_sm_md:  5000\n",
      "SO_webtext_sm_lg:  5000\n",
      "SO_webtext_sm_xl:  5000\n",
      "SO_webtext_md_lg:  5000\n",
      "SO_webtext_md_xl:  5000\n",
      "SO_webtext_lg_xl:  5000\n"
     ]
    }
   ],
   "source": [
    "# Compare webtext-sm, webtext-md, webtext-lg, webtext-xl\n",
    "estimators = ['gpt2', 'gpt2-medium', 'gpt2-large', 'gpt2-xl']\n",
    "\n",
    "webtext_sm_file = '../data/estimator_choice/webtext.test.model=gpt2.fft.csv'\n",
    "webtext_md_file = '../data/estimator_choice/webtext.test.model=gpt2-medium.fft.csv'\n",
    "webtext_lg_file = '../data/estimator_choice/webtext.test.model=gpt2-large.fft.csv'\n",
    "webtext_xl_file = '../data/estimator_choice/webtext.test.model=gpt2-xl.fft.csv'\n",
    "\n",
    "_, _, SO_webtext_sm_md = st.getPSO(webtext_sm_file, webtext_md_file)\n",
    "_, _, SO_webtext_sm_lg = st.getPSO(webtext_sm_file, webtext_lg_file)\n",
    "_, _, SO_webtext_sm_xl = st.getPSO(webtext_sm_file, webtext_xl_file)\n",
    "_, _, SO_webtext_md_lg = st.getPSO(webtext_md_file, webtext_lg_file)\n",
    "_, _, SO_webtext_md_xl = st.getPSO(webtext_md_file, webtext_xl_file)\n",
    "_, _, SO_webtext_lg_xl = st.getPSO(webtext_lg_file, webtext_xl_file)\n",
    "\n",
    "print('SO_webtext_sm_md: ', len(SO_webtext_sm_md))\n",
    "print('SO_webtext_sm_lg: ', len(SO_webtext_sm_lg))\n",
    "print('SO_webtext_sm_xl: ', len(SO_webtext_sm_xl))\n",
    "print('SO_webtext_md_lg: ', len(SO_webtext_md_lg))\n",
    "print('SO_webtext_md_xl: ', len(SO_webtext_md_xl))\n",
    "print('SO_webtext_lg_xl: ', len(SO_webtext_lg_xl))"
   ],
   "metadata": {
    "collapsed": false
   }
  },
  {
   "cell_type": "code",
   "execution_count": 23,
   "outputs": [
    {
     "name": "stdout",
     "output_type": "stream",
     "text": [
      "SO_webtext_sm_md:  0.74272228 0.04096898260393587\n",
      "SO_webtext_sm_lg:  0.70536084 0.0487430540948595\n",
      "SO_webtext_sm_xl:  0.67098212 0.05436979838389692\n",
      "SO_webtext_md_lg:  0.78710766 0.03715919949789554\n",
      "SO_webtext_md_xl:  0.7494355600000001 0.04828666382642727\n",
      "SO_webtext_lg_xl:  0.791725 0.0377258968216794\n"
     ]
    }
   ],
   "source": [
    "# mean and SDs\n",
    "print('SO_webtext_sm_md: ', np.mean(SO_webtext_sm_md), np.std(SO_webtext_sm_md))\n",
    "print('SO_webtext_sm_lg: ', np.mean(SO_webtext_sm_lg), np.std(SO_webtext_sm_lg))\n",
    "print('SO_webtext_sm_xl: ', np.mean(SO_webtext_sm_xl), np.std(SO_webtext_sm_xl))\n",
    "print('SO_webtext_md_lg: ', np.mean(SO_webtext_md_lg), np.std(SO_webtext_md_lg))\n",
    "print('SO_webtext_md_xl: ', np.mean(SO_webtext_md_xl), np.std(SO_webtext_md_xl))\n",
    "print('SO_webtext_lg_xl: ', np.mean(SO_webtext_lg_xl), np.std(SO_webtext_lg_xl))"
   ],
   "metadata": {
    "collapsed": false
   }
  },
  {
   "cell_type": "code",
   "execution_count": 12,
   "outputs": [],
   "source": [
    "# We should directly compare the spectra values\n",
    "webtext_sm_df = pd.read_csv(webtext_sm_file)\n",
    "webtext_md_df = pd.read_csv(webtext_md_file)\n",
    "webtext_lg_df = pd.read_csv(webtext_lg_file)\n",
    "webtext_xl_df = pd.read_csv(webtext_xl_file)"
   ],
   "metadata": {
    "collapsed": false
   }
  },
  {
   "cell_type": "code",
   "execution_count": 14,
   "outputs": [
    {
     "data": {
      "text/plain": "Ttest_indResult(statistic=9.62505087740335, pvalue=6.272331085342628e-22)"
     },
     "execution_count": 14,
     "metadata": {},
     "output_type": "execute_result"
    }
   ],
   "source": [
    "webtext_sm_df.head()\n",
    "\n",
    "# t-test\n",
    "ttest_ind(webtext_sm_df['power'], webtext_md_df['power'])"
   ],
   "metadata": {
    "collapsed": false
   }
  },
  {
   "cell_type": "code",
   "execution_count": null,
   "outputs": [],
   "source": [
    "# 10 pairs of combinations:\n",
    "# sm-sm, sm-md, sm-lg, sm-xl,\n",
    "# md-md, md-lg, md-xl,\n",
    "# lg-lg, lg-xl,\n",
    "# xl-xl"
   ],
   "metadata": {
    "collapsed": false
   }
  }
 ],
 "metadata": {
  "kernelspec": {
   "display_name": "Python 3",
   "language": "python",
   "name": "python3"
  },
  "language_info": {
   "codemirror_mode": {
    "name": "ipython",
    "version": 2
   },
   "file_extension": ".py",
   "mimetype": "text/x-python",
   "name": "python",
   "nbconvert_exporter": "python",
   "pygments_lexer": "ipython2",
   "version": "2.7.6"
  }
 },
 "nbformat": 4,
 "nbformat_minor": 0
}
