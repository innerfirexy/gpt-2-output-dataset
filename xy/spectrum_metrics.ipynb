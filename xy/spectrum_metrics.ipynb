{
 "cells": [
  {
   "cell_type": "code",
   "execution_count": 1,
   "metadata": {
    "collapsed": true
   },
   "outputs": [],
   "source": [
    "from matplotlib import pyplot as plt\n",
    "import numpy as np\n",
    "import pandas as pd\n",
    "from pandas import DataFrame\n",
    "from scipy import interpolate\n",
    "from scipy.stats import pearsonr"
   ]
  },
  {
   "cell_type": "code",
   "execution_count": 2,
   "outputs": [],
   "source": [
    "# 从csv文件中读出每个区间，区分方法为每个区间必须升序\n",
    "def getInterval(fre_power_filepath:str):\n",
    "    spectrum = pd.read_csv(fre_power_filepath)\n",
    "    spectrum['group'] = (spectrum['freq'].shift(1) > spectrum['freq']).cumsum() # 聪明的办法！\n",
    "    grouped_spectrum = spectrum.groupby('group')\n",
    "    freq_list = []\n",
    "    power_list = []\n",
    "    for name, group in grouped_spectrum:\n",
    "        freq_list.append(group['freq'].tolist())\n",
    "        power_list.append(group['power'].tolist())\n",
    "    return freq_list, power_list"
   ],
   "metadata": {
    "collapsed": false
   }
  },
  {
   "cell_type": "code",
   "execution_count": null,
   "outputs": [],
   "source": [
    "# Test the shift() and groupby() methods\n",
    "entropy_file1 = '../data/large-762M.test.model=gpt2.nll'\n",
    "entropy_file2 = '../data/webtext.test.model=gpt2.nll'\n",
    "fp_file1 = '../plot/large-762M.test.model=gpt2.freq_power.csv'\n",
    "fp_file2 = '../plot/webtext.test.model=gpt2.freq_power.csv'\n",
    "\n",
    "spectrum = pd.read_csv(fp_file1)\n",
    "spectrum['group'] = (spectrum['freq'].shift(1) > spectrum['freq']).cumsum()\n",
    "spectrum"
   ],
   "metadata": {
    "collapsed": false,
    "pycharm": {
     "is_executing": true
    }
   }
  },
  {
   "cell_type": "code",
   "execution_count": 3,
   "outputs": [],
   "source": [
    "# 返回由散点模拟的函数（可以为线性，二次方程或者三次方程）\n",
    "def getF(freq_list:list, power_list:list):\n",
    "    f = interpolate.interp1d(freq_list, power_list, fill_value=\"extrapolate\")\n",
    "    return f"
   ],
   "metadata": {
    "collapsed": false
   }
  },
  {
   "cell_type": "code",
   "execution_count": 13,
   "outputs": [],
   "source": [
    "# 根据两个文件内容， 返回每个区间固定且相同间隔的x对应的y值，区间取值为[0, 0.5],区间外的点是否需要计算？ or直接截断 比如0.48 去预测 0.5\n",
    "def alignPoints(filepath1:str, filepath2:str, n_common:int = 200, verbose=False):\n",
    "    freq_list_list_1, power_list_list_1 = getInterval(filepath1)\n",
    "    freq_list_list_2, power_list_list_2 = getInterval(filepath2)\n",
    "    if verbose:\n",
    "        print(f'There are {len(freq_list_list_1)},{len(freq_list_list_2)} intervals in file {filepath1},{filepath2} respectively')\n",
    "\n",
    "    x = np.linspace(0, 0.5, n_common)\n",
    "    y1listlist, y2listlist = [], []\n",
    "    for i in range(len(freq_list_list_1)):\n",
    "        freq_list1 = freq_list_list_1[i]\n",
    "        power_list1 = power_list_list_1[i]\n",
    "        freq_list2 = freq_list_list_2[i]\n",
    "        power_list2 = power_list_list_2[i]\n",
    "\n",
    "        func1 = getF(freq_list1, power_list1)\n",
    "        func2 = getF(freq_list2, power_list2)\n",
    "        # interpolate\n",
    "        y1 = func1(x)\n",
    "        y2 = func2(x)\n",
    "        y1listlist.append(y1)\n",
    "        y2listlist.append(y2)\n",
    "\n",
    "    return x, y1listlist, y2listlist"
   ],
   "metadata": {
    "collapsed": false
   }
  },
  {
   "cell_type": "code",
   "execution_count": 5,
   "outputs": [],
   "source": [
    "# 为每个fre区间计算auc\n",
    "def getPSO(filepath1:str, filepath2:str):\n",
    "    area_floor_list, area_roof_list, pso_list = [], [], []\n",
    "    xlist, y1listlist, y2listlist = alignPoints(filepath1, filepath2)\n",
    "\n",
    "    for i in range(len(y1listlist)):\n",
    "        y1list = y1listlist[i]\n",
    "        y2list = y2listlist[i]\n",
    "        ylists = []\n",
    "        ylists.append(y1list)\n",
    "        ylists.append(y2list)\n",
    "\n",
    "        y_intersection = np.amin(ylists, axis=0)\n",
    "        y_roof = np.amax(ylists, axis=0)\n",
    "        area_floor = np.trapz(y_intersection, xlist)\n",
    "        area_roof = np.trapz(y_roof, xlist)\n",
    "\n",
    "        area_floor_list.append(area_floor)\n",
    "        area_roof_list.append(area_roof)\n",
    "        pso_list.append(round(area_floor / area_roof, 4))\n",
    "\n",
    "    return area_floor_list, area_roof_list, pso_list"
   ],
   "metadata": {
    "collapsed": false
   }
  },
  {
   "cell_type": "code",
   "execution_count": 28,
   "outputs": [],
   "source": [
    "# 为每个fre区间计算PearsonCorelation\n",
    "def getPearson(filepath1:str, filepath2:str):\n",
    "    xlist, y1listlist, y2listlist = alignPoints(filepath1, filepath2)\n",
    "    corr_list = []\n",
    "    for i in range(len(y1listlist)):\n",
    "        y1list = y1listlist[i]\n",
    "        y2list = y2listlist[i]\n",
    "        y1 = np.array(y1list)\n",
    "        y2 = np.array(y2list)\n",
    "        finite_indices = np.logical_and(np.isfinite(y1), np.isfinite(y2))\n",
    "        y1 = y1[finite_indices]\n",
    "        y2 = y2[finite_indices]\n",
    "        try:\n",
    "            corr, _ = pearsonr(y1, y2)\n",
    "        except ValueError:\n",
    "            print(len(y1list), len(y2list))\n",
    "            print(y1.shape, y2.shape)\n",
    "            raise\n",
    "        corr_list.append(corr)\n",
    "    return corr_list"
   ],
   "metadata": {
    "collapsed": false
   }
  },
  {
   "cell_type": "code",
   "execution_count": 31,
   "outputs": [],
   "source": [
    "# Calculate the similarity between two spectra using Spectral Angle Mapper\n",
    "def getSAM(filepath1:str, filepath2:str):\n",
    "    xlist, y1listlist, y2listlist = alignPoints(filepath1, filepath2)\n",
    "    sam_list = []\n",
    "    for i in range(len(y1listlist)):\n",
    "        y1list = y1listlist[i]\n",
    "        y2list = y2listlist[i]\n",
    "        ylists = []\n",
    "        ylists.append(y1list)\n",
    "        ylists.append(y2list)\n",
    "        # Normalize the spectra\n",
    "        y1list /= np.linalg.norm(y1list)\n",
    "        y2list /= np.linalg.norm(y2list)\n",
    "        # Calculate the dot product\n",
    "        dot_product = np.dot(y1list, y2list)\n",
    "        # Calculate the SAM similarity\n",
    "        sam_similarity = np.arccos(dot_product) / np.pi\n",
    "        sam_list.append(sam_similarity)\n",
    "\n",
    "    return sam_list"
   ],
   "metadata": {
    "collapsed": false
   }
  },
  {
   "cell_type": "markdown",
   "source": [
    "# Tests"
   ],
   "metadata": {
    "collapsed": false
   }
  },
  {
   "cell_type": "code",
   "execution_count": 14,
   "outputs": [
    {
     "name": "stderr",
     "output_type": "stream",
     "text": [
      "/Users/yang.xu/.pyenv/versions/3.9.14/lib/python3.9/site-packages/scipy/interpolate/_interpolate.py:653: RuntimeWarning: divide by zero encountered in divide\n",
      "  slope = (y_hi - y_lo) / (x_hi - x_lo)[:, None]\n",
      "/Users/yang.xu/.pyenv/versions/3.9.14/lib/python3.9/site-packages/scipy/interpolate/_interpolate.py:656: RuntimeWarning: invalid value encountered in multiply\n",
      "  y_new = slope*(x_new - x_lo)[:, None] + y_lo\n",
      "/Users/yang.xu/.pyenv/versions/3.9.14/lib/python3.9/site-packages/scipy/interpolate/_interpolate.py:653: RuntimeWarning: divide by zero encountered in divide\n",
      "  slope = (y_hi - y_lo) / (x_hi - x_lo)[:, None]\n",
      "/Users/yang.xu/.pyenv/versions/3.9.14/lib/python3.9/site-packages/scipy/interpolate/_interpolate.py:656: RuntimeWarning: invalid value encountered in multiply\n",
      "  y_new = slope*(x_new - x_lo)[:, None] + y_lo\n"
     ]
    },
    {
     "name": "stdout",
     "output_type": "stream",
     "text": [
      "4999 4999 4999\n"
     ]
    }
   ],
   "source": [
    "fp_file1 = '../plot/large-762M.test.model=gpt2.freq_power.csv'\n",
    "fp_file2 = '../plot/webtext.test.model=gpt2.freq_power.csv'\n",
    "x, y1listlist, y2listlist = alignPoints(fp_file1, fp_file2)\n",
    "\n",
    "area_floor_list, area_roof_list, pso_list = getPSO(fp_file1, fp_file2)\n",
    "print(len(area_floor_list), len(area_roof_list), len(pso_list))"
   ],
   "metadata": {
    "collapsed": false
   }
  },
  {
   "cell_type": "code",
   "execution_count": 30,
   "outputs": [
    {
     "name": "stderr",
     "output_type": "stream",
     "text": [
      "/Users/yang.xu/.pyenv/versions/3.9.14/lib/python3.9/site-packages/scipy/interpolate/_interpolate.py:653: RuntimeWarning: divide by zero encountered in divide\n",
      "  slope = (y_hi - y_lo) / (x_hi - x_lo)[:, None]\n",
      "/Users/yang.xu/.pyenv/versions/3.9.14/lib/python3.9/site-packages/scipy/interpolate/_interpolate.py:656: RuntimeWarning: invalid value encountered in multiply\n",
      "  y_new = slope*(x_new - x_lo)[:, None] + y_lo\n"
     ]
    },
    {
     "name": "stdout",
     "output_type": "stream",
     "text": [
      "4999\n"
     ]
    }
   ],
   "source": [
    "corr_list = getPearson(fp_file1, fp_file2)\n",
    "print(len(corr_list))"
   ],
   "metadata": {
    "collapsed": false
   }
  },
  {
   "cell_type": "code",
   "execution_count": 33,
   "outputs": [
    {
     "name": "stderr",
     "output_type": "stream",
     "text": [
      "/Users/yang.xu/.pyenv/versions/3.9.14/lib/python3.9/site-packages/scipy/interpolate/_interpolate.py:653: RuntimeWarning: divide by zero encountered in divide\n",
      "  slope = (y_hi - y_lo) / (x_hi - x_lo)[:, None]\n",
      "/Users/yang.xu/.pyenv/versions/3.9.14/lib/python3.9/site-packages/scipy/interpolate/_interpolate.py:656: RuntimeWarning: invalid value encountered in multiply\n",
      "  y_new = slope*(x_new - x_lo)[:, None] + y_lo\n"
     ]
    },
    {
     "name": "stdout",
     "output_type": "stream",
     "text": [
      "4999\n"
     ]
    }
   ],
   "source": [
    "sam_list = getSAM(fp_file1, fp_file2)\n",
    "print(len(sam_list))"
   ],
   "metadata": {
    "collapsed": false
   }
  },
  {
   "cell_type": "code",
   "execution_count": 36,
   "outputs": [
    {
     "name": "stdout",
     "output_type": "stream",
     "text": [
      "0.3869626450580232\n",
      "0.04771419768822357\n"
     ]
    }
   ],
   "source": [
    "pso_arr = np.array(pso_list)\n",
    "pso_arr = pso_arr[~np.isnan(pso_arr)]\n",
    "print(np.mean(pso_arr))\n",
    "print(np.std(pso_arr))"
   ],
   "metadata": {
    "collapsed": false
   }
  },
  {
   "cell_type": "code",
   "execution_count": 37,
   "outputs": [
    {
     "name": "stdout",
     "output_type": "stream",
     "text": [
      "0.040044331175459094\n",
      "0.10829241054950708\n"
     ]
    }
   ],
   "source": [
    "corr_arr = np.array(corr_list)\n",
    "corr_arr = corr_arr[~np.isnan(corr_arr)]\n",
    "print(np.mean(corr_arr))\n",
    "print(np.std(corr_arr))"
   ],
   "metadata": {
    "collapsed": false
   }
  },
  {
   "cell_type": "code",
   "execution_count": 38,
   "outputs": [
    {
     "name": "stdout",
     "output_type": "stream",
     "text": [
      "0.30358397329042336\n",
      "0.028562383954158607\n"
     ]
    }
   ],
   "source": [
    "sam_arr = np.array(sam_list)\n",
    "sam_arr = sam_arr[~np.isnan(sam_arr)]\n",
    "print(np.mean(sam_arr))\n",
    "print(np.std(sam_arr))"
   ],
   "metadata": {
    "collapsed": false
   }
  },
  {
   "cell_type": "code",
   "execution_count": null,
   "outputs": [],
   "source": [],
   "metadata": {
    "collapsed": false
   }
  }
 ],
 "metadata": {
  "kernelspec": {
   "display_name": "Python 3",
   "language": "python",
   "name": "python3"
  },
  "language_info": {
   "codemirror_mode": {
    "name": "ipython",
    "version": 2
   },
   "file_extension": ".py",
   "mimetype": "text/x-python",
   "name": "python",
   "nbconvert_exporter": "python",
   "pygments_lexer": "ipython2",
   "version": "2.7.6"
  }
 },
 "nbformat": 4,
 "nbformat_minor": 0
}
