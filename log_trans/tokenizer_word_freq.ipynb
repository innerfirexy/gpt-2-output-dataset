{
 "cells": [
  {
   "cell_type": "code",
   "execution_count": 5,
   "metadata": {},
   "outputs": [],
   "source": [
    "from transformers import AutoTokenizer\n",
    "import pprint\n",
    "from collections import Counter\n",
    "import numpy as np"
   ]
  },
  {
   "cell_type": "code",
   "execution_count": 2,
   "metadata": {},
   "outputs": [
    {
     "name": "stdout",
     "output_type": "stream",
     "text": [
      "[15496, 995]\n"
     ]
    }
   ],
   "source": [
    "tokenizer = AutoTokenizer.from_pretrained('gpt2')\n",
    "tokens = tokenizer(\"Hello world\")[\"input_ids\"]\n",
    "print(tokens)"
   ]
  },
  {
   "cell_type": "code",
   "execution_count": 21,
   "metadata": {},
   "outputs": [
    {
     "name": "stdout",
     "output_type": "stream",
     "text": [
      "len(counts) 50257\n",
      "50257\n",
      "<class 'dict'>\n"
     ]
    }
   ],
   "source": [
    "# pprint.pprint(vars(tokenizer))\n",
    "# print(tokenizer.get_vocab())\n",
    "\n",
    "# Print the counts of tokens in the vocabulary\n",
    "counts = Counter(tokenizer.get_vocab())\n",
    "print('len(counts)', len(counts))\n",
    "# print(counts)\n",
    "\n",
    "print(tokenizer.vocab_size)\n",
    "print(type(tokenizer.vocab))\n",
    "# pprint.pp(tokenizer.vocab)"
   ]
  },
  {
   "cell_type": "code",
   "execution_count": 22,
   "metadata": {},
   "outputs": [],
   "source": [
    "# sorted_token_freqs = np.array([item[1] for item in counter.most_common()])\n",
    "# print(sorted_token_freqs.shape)\n",
    "\n",
    "# sorted_token_ids = np.arange(len(sorted_token_freqs))\n",
    "# print(sorted_token_ids[:10])\n",
    "\n",
    "# import matplotlib.pyplot as plt\n",
    "# plt.plot(sorted_token_ids, sorted_token_freqs)"
   ]
  },
  {
   "cell_type": "code",
   "execution_count": null,
   "metadata": {},
   "outputs": [],
   "source": [
    "# Plot raw freqs against token id\n"
   ]
  }
 ],
 "metadata": {
  "kernelspec": {
   "display_name": ".env",
   "language": "python",
   "name": "python3"
  },
  "language_info": {
   "codemirror_mode": {
    "name": "ipython",
    "version": 3
   },
   "file_extension": ".py",
   "mimetype": "text/x-python",
   "name": "python",
   "nbconvert_exporter": "python",
   "pygments_lexer": "ipython3",
   "version": "3.8.17"
  },
  "orig_nbformat": 4
 },
 "nbformat": 4,
 "nbformat_minor": 2
}
