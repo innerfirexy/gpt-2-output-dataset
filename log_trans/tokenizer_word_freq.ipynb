{
 "cells": [
  {
   "cell_type": "code",
   "execution_count": 11,
   "metadata": {},
   "outputs": [],
   "source": [
    "from transformers import AutoTokenizer\n",
    "import pprint\n",
    "from collections import Counter\n",
    "import numpy as np\n",
    "import json\n",
    "from tqdm import tqdm\n",
    "import itertools"
   ]
  },
  {
   "cell_type": "code",
   "execution_count": 2,
   "metadata": {},
   "outputs": [
    {
     "name": "stdout",
     "output_type": "stream",
     "text": [
      "[15496, 995]\n"
     ]
    }
   ],
   "source": [
    "tokenizer = AutoTokenizer.from_pretrained('gpt2')\n",
    "tokens = tokenizer(\"Hello world\")[\"input_ids\"]\n",
    "print(tokens)"
   ]
  },
  {
   "cell_type": "code",
   "execution_count": 18,
   "metadata": {},
   "outputs": [
    {
     "name": "stdout",
     "output_type": "stream",
     "text": [
      "50257\n",
      "<class 'dict'>\n",
      "\n"
     ]
    }
   ],
   "source": [
    "# pprint.pprint(vars(tokenizer))\n",
    "# print(tokenizer.get_vocab())\n",
    "\n",
    "print(tokenizer.vocab_size)\n",
    "print(type(tokenizer.vocab))\n",
    "print()"
   ]
  },
  {
   "cell_type": "code",
   "execution_count": 4,
   "metadata": {},
   "outputs": [
    {
     "name": "stdout",
     "output_type": "stream",
     "text": [
      "5000 lines read from ../data/webtext.test.jsonl\n"
     ]
    }
   ],
   "source": [
    "# Read data from jsonl file\n",
    "# Run tokenizer on each line of jsonl\n",
    "\n",
    "test_data_file = '../data/webtext.test.jsonl'\n",
    "with open(test_data_file, 'r') as f:\n",
    "    test_data = f.readlines()\n",
    "print(len(test_data), 'lines read from', test_data_file)"
   ]
  },
  {
   "cell_type": "code",
   "execution_count": 9,
   "metadata": {},
   "outputs": [
    {
     "name": "stderr",
     "output_type": "stream",
     "text": [
      "100%|██████████| 5000/5000 [00:03<00:00, 1477.43it/s]\n"
     ]
    }
   ],
   "source": [
    "token_ids_list = []\n",
    "for line in tqdm(test_data):\n",
    "    json_obj = json.loads(line)\n",
    "    text = json_obj['text']\n",
    "    toks = tokenizer(text)['input_ids']\n",
    "    token_ids_list.append(toks)"
   ]
  },
  {
   "cell_type": "code",
   "execution_count": 13,
   "metadata": {},
   "outputs": [
    {
     "name": "stdout",
     "output_type": "stream",
     "text": [
      "5000\n",
      "2900278\n",
      "2900278\n"
     ]
    }
   ],
   "source": [
    "# print(token_ids_list[0])\n",
    "print(len(token_ids_list))\n",
    "print(sum(map(len, token_ids_list)))\n",
    "token_ids = itertools.chain.from_iterable(token_ids_list)\n",
    "token_ids = list(token_ids)\n",
    "print(len(token_ids))"
   ]
  },
  {
   "cell_type": "code",
   "execution_count": 36,
   "metadata": {},
   "outputs": [
    {
     "name": "stdout",
     "output_type": "stream",
     "text": [
      "198\n",
      "<class 'str'>\n",
      "1\n",
      "Æ\n",
      "decode result: \n",
      "\n",
      "_convert_id_to_token result: Ċ\n",
      "top 10 tokens with freqs:\n",
      "198\t\n",
      "\t114175\n",
      "262\t the\t106091\n",
      "11\t,\t103121\n",
      "13\t.\t102301\n",
      "284\t to\t57840\n",
      "286\t of\t53223\n",
      "290\t and\t50286\n",
      "257\t a\t46314\n",
      "287\t in\t36187\n",
      "12\t-\t25145\n"
     ]
    }
   ],
   "source": [
    "tokens_count = Counter(token_ids)\n",
    "# print(tokens_count.most_common(10))\n",
    "\n",
    "top_ten_ids = [tok_id for tok_id, freq in tokens_count.most_common(10)]\n",
    "print(top_ten_ids[0])\n",
    "\n",
    "id0_decoded = tokenizer.decode(top_ten_ids[0])\n",
    "print(type(id0_decoded))\n",
    "print(len(id0_decoded))\n",
    "print(chr(top_ten_ids[0]))\n",
    "\n",
    "print('decode result:', tokenizer.decode(top_ten_ids[0]))\n",
    "print('_convert_id_to_token result:', tokenizer._convert_id_to_token(top_ten_ids[0]))\n",
    "\n",
    "print('top 10 tokens with freqs:')\n",
    "for tok_id, freq in tokens_count.most_common(10):\n",
    "    print('\\t'.join([str(tok_id), tokenizer.decode(tok_id), str(freq)]))"
   ]
  },
  {
   "cell_type": "code",
   "execution_count": null,
   "metadata": {},
   "outputs": [],
   "source": [
    "# 只关注词语，non-punct"
   ]
  }
 ],
 "metadata": {
  "kernelspec": {
   "display_name": ".env",
   "language": "python",
   "name": "python3"
  },
  "language_info": {
   "codemirror_mode": {
    "name": "ipython",
    "version": 3
   },
   "file_extension": ".py",
   "mimetype": "text/x-python",
   "name": "python",
   "nbconvert_exporter": "python",
   "pygments_lexer": "ipython3",
   "version": "3.8.17"
  },
  "orig_nbformat": 4
 },
 "nbformat": 4,
 "nbformat_minor": 2
}
