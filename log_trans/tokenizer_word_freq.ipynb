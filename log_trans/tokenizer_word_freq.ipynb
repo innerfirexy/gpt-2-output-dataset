{
 "cells": [
  {
   "cell_type": "code",
   "execution_count": 2,
   "metadata": {},
   "outputs": [],
   "source": [
    "from transformers import AutoTokenizer\n",
    "import pprint\n",
    "from collections import Counter\n",
    "import numpy as np\n",
    "import json\n",
    "from tqdm import tqdm\n",
    "import itertools"
   ]
  },
  {
   "cell_type": "code",
   "execution_count": 3,
   "metadata": {},
   "outputs": [
    {
     "name": "stdout",
     "output_type": "stream",
     "text": [
      "[15496, 995]\n"
     ]
    }
   ],
   "source": [
    "tokenizer = AutoTokenizer.from_pretrained('gpt2')\n",
    "tokens = tokenizer(\"Hello world\")[\"input_ids\"]\n",
    "print(tokens)"
   ]
  },
  {
   "cell_type": "code",
   "execution_count": 26,
   "metadata": {},
   "outputs": [
    {
     "name": "stdout",
     "output_type": "stream",
     "text": [
      "<class 'dict'>\n",
      "vocab1 length: 50257\n",
      "Ġexce\n",
      "<class 'str'>\n",
      "\n",
      "50257\n",
      "<class 'dict'>\n",
      "vocab2 length: 50257\n",
      "Ġexce\n",
      "<class 'str'>\n"
     ]
    }
   ],
   "source": [
    "# pprint.pprint(vars(tokenizer))\n",
    "vocab1 = tokenizer.get_vocab()\n",
    "print(type(vocab1))\n",
    "print('vocab1 length:', len(vocab1))\n",
    "\n",
    "print(list(vocab1.keys())[0])\n",
    "print(type(list(vocab1.keys())[0]))\n",
    "\n",
    "\n",
    "print()\n",
    "\n",
    "\n",
    "print(tokenizer.vocab_size)\n",
    "print(type(tokenizer.vocab))\n",
    "vocab2 = tokenizer.vocab.copy()\n",
    "print('vocab2 length:', len(vocab2))\n",
    "\n",
    "print(list(vocab2.keys())[0])\n",
    "print(type(list(vocab2.keys())[0]))\n",
    "\n",
    "# 所以此二法得到的 vocab 是等价的\n"
   ]
  },
  {
   "cell_type": "markdown",
   "metadata": {},
   "source": [
    "为什么在前步骤中 直接打印 vocab.keys() 会出现奇怪的 字符 \"Ġ\" 呢?"
   ]
  },
  {
   "cell_type": "code",
   "execution_count": 28,
   "metadata": {},
   "outputs": [
    {
     "name": "stdout",
     "output_type": "stream",
     "text": [
      "43748\n",
      " exce\n"
     ]
    }
   ],
   "source": [
    "print(vocab1['Ġexce']) # 得到 43748\n",
    "\n",
    "print(tokenizer.decode(43748))"
   ]
  },
  {
   "cell_type": "code",
   "execution_count": 4,
   "metadata": {},
   "outputs": [
    {
     "name": "stdout",
     "output_type": "stream",
     "text": [
      "5000 lines read from ../data/webtext.test.jsonl\n"
     ]
    }
   ],
   "source": [
    "# Read data from jsonl file\n",
    "# Run tokenizer on each line of jsonl\n",
    "\n",
    "test_data_file = '../data/webtext.test.jsonl'\n",
    "with open(test_data_file, 'r') as f:\n",
    "    test_data = f.readlines()\n",
    "print(len(test_data), 'lines read from', test_data_file)"
   ]
  },
  {
   "cell_type": "code",
   "execution_count": 7,
   "metadata": {},
   "outputs": [
    {
     "name": "stderr",
     "output_type": "stream",
     "text": [
      "100%|██████████| 5000/5000 [00:03<00:00, 1550.06it/s]"
     ]
    },
    {
     "name": "stdout",
     "output_type": "stream",
     "text": [
      "5000\n",
      "2900278\n",
      "2900278\n"
     ]
    },
    {
     "name": "stderr",
     "output_type": "stream",
     "text": [
      "\n"
     ]
    }
   ],
   "source": [
    "token_ids_list = []\n",
    "for line in tqdm(test_data):\n",
    "    json_obj = json.loads(line)\n",
    "    text = json_obj['text']\n",
    "    toks = tokenizer(text)['input_ids']\n",
    "    token_ids_list.append(toks)\n",
    "\n",
    "# print(token_ids_list[-1])\n",
    "print(len(token_ids_list))\n",
    "print(sum(map(len, token_ids_list)))\n",
    "token_ids = itertools.chain.from_iterable(token_ids_list)\n",
    "token_ids = list(token_ids)\n",
    "print(len(token_ids))"
   ]
  },
  {
   "cell_type": "code",
   "execution_count": 8,
   "metadata": {},
   "outputs": [
    {
     "name": "stdout",
     "output_type": "stream",
     "text": [
      "198\n",
      "<class 'str'>\n",
      "1\n",
      "Æ\n",
      "decode result: \n",
      "\n",
      "_convert_id_to_token result: Ċ\n",
      "top 10 tokens with freqs:\n",
      "198\t\n",
      "\t114175\n",
      "262\t the\t106091\n",
      "11\t,\t103121\n",
      "13\t.\t102301\n",
      "284\t to\t57840\n",
      "286\t of\t53223\n",
      "290\t and\t50286\n",
      "257\t a\t46314\n",
      "287\t in\t36187\n",
      "12\t-\t25145\n"
     ]
    }
   ],
   "source": [
    "tokens_count = Counter(token_ids)\n",
    "# print(tokens_count.most_common(10))\n",
    "\n",
    "top_ten_ids = [tok_id for tok_id, freq in tokens_count.most_common(10)]\n",
    "print(top_ten_ids[0])\n",
    "\n",
    "id0_decoded = tokenizer.decode(top_ten_ids[0])\n",
    "print(type(id0_decoded))\n",
    "print(len(id0_decoded))\n",
    "print(chr(top_ten_ids[0]))\n",
    "\n",
    "print('decode result:', tokenizer.decode(top_ten_ids[0]))\n",
    "print('_convert_id_to_token result:', tokenizer._convert_id_to_token(top_ten_ids[0]))\n",
    "\n",
    "print('top 10 tokens with freqs:')\n",
    "for tok_id, freq in tokens_count.most_common(10):\n",
    "    print('\\t'.join([str(tok_id), tokenizer.decode(tok_id), str(freq)]))"
   ]
  },
  {
   "cell_type": "markdown",
   "metadata": {},
   "source": [
    "如果直接打印 chr(198)，或者用 tokenizer._convert_id_to_token(198)，会出现错误字符\n",
    "\n",
    "According to this post: https://github.com/huggingface/transformers/issues/3092\n",
    "\n",
    "The proper way to decode a value is using the decode method:\n",
    "\n",
    "\n",
    "```python\n",
    "from transformers import GPT2Tokenizer\n",
    "tokenizer = GPT2Tokenizer.from_pretrained(\"gpt2\")\n",
    "\n",
    "tokenizer.decode([198])  # '\\n'\n",
    "```\n",
    "\n",
    "Some byte indices are shifted in the GPT-2 vocabulary, especially the control characters and characters that resemble whitespace. This is an example, and you can see the method that does it in `~transformers.tokenization_gpt2.bytes_to_unicode`."
   ]
  },
  {
   "cell_type": "code",
   "execution_count": 30,
   "metadata": {},
   "outputs": [
    {
     "name": "stdout",
     "output_type": "stream",
     "text": [
      "10\n",
      "Ċ\n"
     ]
    }
   ],
   "source": [
    "top_ten_ids[0]\n",
    "\n",
    "correct_decoded_ch = tokenizer.decode(top_ten_ids[0])\n",
    "print(ord(correct_decoded_ch))\n",
    "\n",
    "wrong_decoded_ch = tokenizer._convert_id_to_token(top_ten_ids[0])\n",
    "print(wrong_decoded_ch)"
   ]
  },
  {
   "cell_type": "markdown",
   "metadata": {},
   "source": [
    "以上实验证明，正确的 token_id => token 的解码方式是 tokenizer.decode()"
   ]
  },
  {
   "cell_type": "code",
   "execution_count": 36,
   "metadata": {},
   "outputs": [
    {
     "name": "stdout",
     "output_type": "stream",
     "text": [
      "top 10 least frequent tokens:\n",
      "38340\tUME\t1\n",
      "32567\t CHR\t1\n",
      "47550\t STA\t1\n",
      "44428\t GOLD\t1\n",
      "42887\t SERV\t1\n",
      "47821\t Balloon\t1\n",
      "47231\tPrin\t1\n",
      "35713\t...\"\t1\n",
      "27629\t Zucker\t1\n",
      "49419\t lug\t1\n"
     ]
    }
   ],
   "source": [
    "# 词频最低的是哪些词？\n",
    "tokens_count.most_common()[-10:]\n",
    "\n",
    "print('top 10 least frequent tokens:')\n",
    "for tok_id, freq in tokens_count.most_common()[-10:]:\n",
    "    print('\\t'.join([str(tok_id), tokenizer.decode(tok_id), str(freq)]))"
   ]
  },
  {
   "cell_type": "markdown",
   "metadata": {},
   "source": [
    "实现细节，可以参考 transformers 官方实现：https://github.com/huggingface/transformers/blob/v4.32.1/src/transformers/tokenization_utils.py#L917\n"
   ]
  },
  {
   "cell_type": "code",
   "execution_count": null,
   "metadata": {},
   "outputs": [],
   "source": [
    "# 只关注词语，non-punct"
   ]
  }
 ],
 "metadata": {
  "kernelspec": {
   "display_name": ".env",
   "language": "python",
   "name": "python3"
  },
  "language_info": {
   "codemirror_mode": {
    "name": "ipython",
    "version": 3
   },
   "file_extension": ".py",
   "mimetype": "text/x-python",
   "name": "python",
   "nbconvert_exporter": "python",
   "pygments_lexer": "ipython3",
   "version": "3.8.17"
  },
  "orig_nbformat": 4
 },
 "nbformat": 4,
 "nbformat_minor": 2
}
